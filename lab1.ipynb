{
 "cells": [
  {
   "cell_type": "code",
   "execution_count": 2,
   "id": "91b916d3",
   "metadata": {},
   "outputs": [
    {
     "data": {
      "text/plain": [
       "'C:\\\\Users\\\\android\\\\Documents\\\\data mining lab'"
      ]
     },
     "execution_count": 2,
     "metadata": {},
     "output_type": "execute_result"
    }
   ],
   "source": [
    "pwd"
   ]
  },
  {
   "cell_type": "markdown",
   "id": "f605f665",
   "metadata": {},
   "source": [
    "# Age dataset\n",
    "<h4>mean</h4>\n",
    "<h4>median</h4>\n",
    "<h4>mode</h4>\n",
    "<h4>quantile</h4>\n",
    "<h4>standard deviation</h4>\n",
    "<h4>coefficient variance</h4>\n",
    "<h4>box plot</h4>"
   ]
  },
  {
   "cell_type": "code",
   "execution_count": 3,
   "id": "27a336eb",
   "metadata": {},
   "outputs": [],
   "source": [
    "import pandas as pd\n",
    "df=pd.read_excel(\"age.xlsx\")"
   ]
  },
  {
   "cell_type": "code",
   "execution_count": 4,
   "id": "7b1d3e45",
   "metadata": {},
   "outputs": [
    {
     "data": {
      "text/html": [
       "<div>\n",
       "<style scoped>\n",
       "    .dataframe tbody tr th:only-of-type {\n",
       "        vertical-align: middle;\n",
       "    }\n",
       "\n",
       "    .dataframe tbody tr th {\n",
       "        vertical-align: top;\n",
       "    }\n",
       "\n",
       "    .dataframe thead th {\n",
       "        text-align: right;\n",
       "    }\n",
       "</style>\n",
       "<table border=\"1\" class=\"dataframe\">\n",
       "  <thead>\n",
       "    <tr style=\"text-align: right;\">\n",
       "      <th></th>\n",
       "      <th>Data</th>\n",
       "    </tr>\n",
       "  </thead>\n",
       "  <tbody>\n",
       "    <tr>\n",
       "      <th>0</th>\n",
       "      <td>13</td>\n",
       "    </tr>\n",
       "    <tr>\n",
       "      <th>1</th>\n",
       "      <td>15</td>\n",
       "    </tr>\n",
       "    <tr>\n",
       "      <th>2</th>\n",
       "      <td>16</td>\n",
       "    </tr>\n",
       "    <tr>\n",
       "      <th>3</th>\n",
       "      <td>16</td>\n",
       "    </tr>\n",
       "    <tr>\n",
       "      <th>4</th>\n",
       "      <td>19</td>\n",
       "    </tr>\n",
       "  </tbody>\n",
       "</table>\n",
       "</div>"
      ],
      "text/plain": [
       "   Data\n",
       "0    13\n",
       "1    15\n",
       "2    16\n",
       "3    16\n",
       "4    19"
      ]
     },
     "execution_count": 4,
     "metadata": {},
     "output_type": "execute_result"
    }
   ],
   "source": [
    "df.head()"
   ]
  },
  {
   "cell_type": "code",
   "execution_count": 5,
   "id": "ccc7580b",
   "metadata": {},
   "outputs": [
    {
     "data": {
      "text/html": [
       "<div>\n",
       "<style scoped>\n",
       "    .dataframe tbody tr th:only-of-type {\n",
       "        vertical-align: middle;\n",
       "    }\n",
       "\n",
       "    .dataframe tbody tr th {\n",
       "        vertical-align: top;\n",
       "    }\n",
       "\n",
       "    .dataframe thead th {\n",
       "        text-align: right;\n",
       "    }\n",
       "</style>\n",
       "<table border=\"1\" class=\"dataframe\">\n",
       "  <thead>\n",
       "    <tr style=\"text-align: right;\">\n",
       "      <th></th>\n",
       "      <th>Data</th>\n",
       "    </tr>\n",
       "  </thead>\n",
       "  <tbody>\n",
       "    <tr>\n",
       "      <th>count</th>\n",
       "      <td>27.000000</td>\n",
       "    </tr>\n",
       "    <tr>\n",
       "      <th>mean</th>\n",
       "      <td>29.962963</td>\n",
       "    </tr>\n",
       "    <tr>\n",
       "      <th>std</th>\n",
       "      <td>12.942124</td>\n",
       "    </tr>\n",
       "    <tr>\n",
       "      <th>min</th>\n",
       "      <td>13.000000</td>\n",
       "    </tr>\n",
       "    <tr>\n",
       "      <th>25%</th>\n",
       "      <td>20.500000</td>\n",
       "    </tr>\n",
       "    <tr>\n",
       "      <th>50%</th>\n",
       "      <td>25.000000</td>\n",
       "    </tr>\n",
       "    <tr>\n",
       "      <th>75%</th>\n",
       "      <td>35.000000</td>\n",
       "    </tr>\n",
       "    <tr>\n",
       "      <th>max</th>\n",
       "      <td>70.000000</td>\n",
       "    </tr>\n",
       "  </tbody>\n",
       "</table>\n",
       "</div>"
      ],
      "text/plain": [
       "            Data\n",
       "count  27.000000\n",
       "mean   29.962963\n",
       "std    12.942124\n",
       "min    13.000000\n",
       "25%    20.500000\n",
       "50%    25.000000\n",
       "75%    35.000000\n",
       "max    70.000000"
      ]
     },
     "execution_count": 5,
     "metadata": {},
     "output_type": "execute_result"
    }
   ],
   "source": [
    "df.describe()"
   ]
  },
  {
   "cell_type": "code",
   "execution_count": 6,
   "id": "01e026f8",
   "metadata": {},
   "outputs": [
    {
     "name": "stdout",
     "output_type": "stream",
     "text": [
      "Data    29.962963\n",
      "dtype: float64\n"
     ]
    }
   ],
   "source": [
    "mean1=df.mean()\n",
    "print(mean1)"
   ]
  },
  {
   "cell_type": "code",
   "execution_count": 7,
   "id": "4ac9b5e2",
   "metadata": {},
   "outputs": [
    {
     "name": "stdout",
     "output_type": "stream",
     "text": [
      "Data    25.0\n",
      "dtype: float64\n"
     ]
    }
   ],
   "source": [
    "median1=df.median()\n",
    "print(median1)"
   ]
  },
  {
   "cell_type": "code",
   "execution_count": 8,
   "id": "5890b434",
   "metadata": {},
   "outputs": [
    {
     "name": "stdout",
     "output_type": "stream",
     "text": [
      "   Data\n",
      "0    25\n",
      "1    35\n"
     ]
    }
   ],
   "source": [
    "mode1=df.mode()\n",
    "print(mode1)"
   ]
  },
  {
   "cell_type": "code",
   "execution_count": 10,
   "id": "5a1bf01a",
   "metadata": {},
   "outputs": [
    {
     "name": "stdout",
     "output_type": "stream",
     "text": [
      "      Data\n",
      "0.25  20.5\n",
      "0.50  25.0\n",
      "0.75  35.0\n"
     ]
    }
   ],
   "source": [
    "ans=df.quantile([0.25,0.5,0.75])\n",
    "print(ans)"
   ]
  },
  {
   "cell_type": "code",
   "execution_count": 11,
   "id": "35bf7db3",
   "metadata": {},
   "outputs": [
    {
     "name": "stdout",
     "output_type": "stream",
     "text": [
      "Data    12.942124\n",
      "dtype: float64\n"
     ]
    }
   ],
   "source": [
    "stdev=df.std()\n",
    "print(stdev)"
   ]
  },
  {
   "cell_type": "code",
   "execution_count": 12,
   "id": "9b359d36",
   "metadata": {},
   "outputs": [
    {
     "name": "stdout",
     "output_type": "stream",
     "text": [
      "Data    43.193739\n",
      "dtype: float64\n"
     ]
    }
   ],
   "source": [
    "coeff_var=(stdev/mean1)*100\n",
    "print(coeff_var)"
   ]
  },
  {
   "cell_type": "code",
   "execution_count": 15,
   "id": "ba83cece",
   "metadata": {},
   "outputs": [
    {
     "name": "stdout",
     "output_type": "stream",
     "text": [
      "      Data\n",
      "0.25  20.5\n"
     ]
    }
   ],
   "source": [
    "q1=df.quantile([.25])\n",
    "print(q1)"
   ]
  },
  {
   "cell_type": "code",
   "execution_count": 16,
   "id": "4ff269a2",
   "metadata": {},
   "outputs": [
    {
     "name": "stdout",
     "output_type": "stream",
     "text": [
      "     Data\n",
      "0.5  25.0\n"
     ]
    }
   ],
   "source": [
    "q2=df.quantile([.5])\n",
    "print(q2)"
   ]
  },
  {
   "cell_type": "code",
   "execution_count": 17,
   "id": "cdd882ae",
   "metadata": {},
   "outputs": [
    {
     "name": "stdout",
     "output_type": "stream",
     "text": [
      "      Data\n",
      "0.75  35.0\n"
     ]
    }
   ],
   "source": [
    "q3=df.quantile([.75])\n",
    "print(q3)"
   ]
  },
  {
   "cell_type": "code",
   "execution_count": 19,
   "id": "bc6eede6",
   "metadata": {},
   "outputs": [
    {
     "data": {
      "text/plain": [
       "{'whiskers': [<matplotlib.lines.Line2D at 0x1a0bfc725d0>,\n",
       "  <matplotlib.lines.Line2D at 0x1a0c0513150>],\n",
       " 'caps': [<matplotlib.lines.Line2D at 0x1a0c04453d0>,\n",
       "  <matplotlib.lines.Line2D at 0x1a0c0520a90>],\n",
       " 'boxes': [<matplotlib.lines.Line2D at 0x1a0c0511510>],\n",
       " 'medians': [<matplotlib.lines.Line2D at 0x1a0c0521610>],\n",
       " 'fliers': [<matplotlib.lines.Line2D at 0x1a0c05019d0>],\n",
       " 'means': []}"
      ]
     },
     "execution_count": 19,
     "metadata": {},
     "output_type": "execute_result"
    },
    {
     "data": {
      "image/png": "[encoded data removed]",
      "text/plain": [
       "<Figure size 640x480 with 1 Axes>"
      ]
     },
     "metadata": {},
     "output_type": "display_data"
    }
   ],
   "source": [
    "import matplotlib.pyplot as plt\n",
    "plt.boxplot(df)"
   ]
  },
  {
   "cell_type": "code",
   "execution_count": null,
   "id": "f42e1700",
   "metadata": {},
   "outputs": [],
   "source": []
  }
 ],
 "metadata": {
  "kernelspec": {
   "display_name": "Python 3 (ipykernel)",
   "language": "python",
   "name": "python3"
  },
  "language_info": {
   "codemirror_mode": {
    "name": "ipython",
    "version": 3
   },
   "file_extension": ".py",
   "mimetype": "text/x-python",
   "name": "python",
   "nbconvert_exporter": "python",
   "pygments_lexer": "ipython3",
   "version": "3.11.5"
  }
 },
 "nbformat": 4,
 "nbformat_minor": 5
}
