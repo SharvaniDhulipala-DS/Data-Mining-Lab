{
 "cells": [
  {
   "cell_type": "code",
   "execution_count": 1,
   "id": "7d1cb864",
   "metadata": {},
   "outputs": [],
   "source": [
    "import pandas as pd"
   ]
  },
  {
   "cell_type": "code",
   "execution_count": 2,
   "id": "8ae9c8af",
   "metadata": {},
   "outputs": [],
   "source": [
    "df=pd.read_csv('iris.csv')"
   ]
  },
  {
   "cell_type": "code",
   "execution_count": 3,
   "id": "5670ed3e",
   "metadata": {},
   "outputs": [
    {
     "data": {
      "text/html": [
       "<div>\n",
       "<style scoped>\n",
       "    .dataframe tbody tr th:only-of-type {\n",
       "        vertical-align: middle;\n",
       "    }\n",
       "\n",
       "    .dataframe tbody tr th {\n",
       "        vertical-align: top;\n",
       "    }\n",
       "\n",
       "    .dataframe thead th {\n",
       "        text-align: right;\n",
       "    }\n",
       "</style>\n",
       "<table border=\"1\" class=\"dataframe\">\n",
       "  <thead>\n",
       "    <tr style=\"text-align: right;\">\n",
       "      <th></th>\n",
       "      <th>sepal_length</th>\n",
       "      <th>sepal_width</th>\n",
       "      <th>petal_length</th>\n",
       "      <th>petal_width</th>\n",
       "      <th>species</th>\n",
       "    </tr>\n",
       "  </thead>\n",
       "  <tbody>\n",
       "    <tr>\n",
       "      <th>0</th>\n",
       "      <td>5.1</td>\n",
       "      <td>3.5</td>\n",
       "      <td>1.4</td>\n",
       "      <td>0.2</td>\n",
       "      <td>setosa</td>\n",
       "    </tr>\n",
       "    <tr>\n",
       "      <th>1</th>\n",
       "      <td>4.9</td>\n",
       "      <td>3.0</td>\n",
       "      <td>1.4</td>\n",
       "      <td>0.2</td>\n",
       "      <td>setosa</td>\n",
       "    </tr>\n",
       "    <tr>\n",
       "      <th>2</th>\n",
       "      <td>4.7</td>\n",
       "      <td>3.2</td>\n",
       "      <td>1.3</td>\n",
       "      <td>0.2</td>\n",
       "      <td>setosa</td>\n",
       "    </tr>\n",
       "    <tr>\n",
       "      <th>3</th>\n",
       "      <td>4.6</td>\n",
       "      <td>3.1</td>\n",
       "      <td>1.5</td>\n",
       "      <td>0.2</td>\n",
       "      <td>setosa</td>\n",
       "    </tr>\n",
       "    <tr>\n",
       "      <th>4</th>\n",
       "      <td>5.0</td>\n",
       "      <td>3.6</td>\n",
       "      <td>1.4</td>\n",
       "      <td>0.2</td>\n",
       "      <td>setosa</td>\n",
       "    </tr>\n",
       "  </tbody>\n",
       "</table>\n",
       "</div>"
      ],
      "text/plain": [
       "   sepal_length  sepal_width  petal_length  petal_width species\n",
       "0           5.1          3.5           1.4          0.2  setosa\n",
       "1           4.9          3.0           1.4          0.2  setosa\n",
       "2           4.7          3.2           1.3          0.2  setosa\n",
       "3           4.6          3.1           1.5          0.2  setosa\n",
       "4           5.0          3.6           1.4          0.2  setosa"
      ]
     },
     "execution_count": 3,
     "metadata": {},
     "output_type": "execute_result"
    }
   ],
   "source": [
    "df.head()"
   ]
  },
  {
   "cell_type": "code",
   "execution_count": 4,
   "id": "4b0b934e",
   "metadata": {},
   "outputs": [
    {
     "data": {
      "text/html": [
       "<div>\n",
       "<style scoped>\n",
       "    .dataframe tbody tr th:only-of-type {\n",
       "        vertical-align: middle;\n",
       "    }\n",
       "\n",
       "    .dataframe tbody tr th {\n",
       "        vertical-align: top;\n",
       "    }\n",
       "\n",
       "    .dataframe thead th {\n",
       "        text-align: right;\n",
       "    }\n",
       "</style>\n",
       "<table border=\"1\" class=\"dataframe\">\n",
       "  <thead>\n",
       "    <tr style=\"text-align: right;\">\n",
       "      <th></th>\n",
       "      <th>sepal_length</th>\n",
       "      <th>sepal_width</th>\n",
       "      <th>petal_length</th>\n",
       "      <th>petal_width</th>\n",
       "    </tr>\n",
       "  </thead>\n",
       "  <tbody>\n",
       "    <tr>\n",
       "      <th>0</th>\n",
       "      <td>5.1</td>\n",
       "      <td>3.5</td>\n",
       "      <td>1.4</td>\n",
       "      <td>0.2</td>\n",
       "    </tr>\n",
       "    <tr>\n",
       "      <th>1</th>\n",
       "      <td>4.9</td>\n",
       "      <td>3.0</td>\n",
       "      <td>1.4</td>\n",
       "      <td>0.2</td>\n",
       "    </tr>\n",
       "    <tr>\n",
       "      <th>2</th>\n",
       "      <td>4.7</td>\n",
       "      <td>3.2</td>\n",
       "      <td>1.3</td>\n",
       "      <td>0.2</td>\n",
       "    </tr>\n",
       "    <tr>\n",
       "      <th>3</th>\n",
       "      <td>4.6</td>\n",
       "      <td>3.1</td>\n",
       "      <td>1.5</td>\n",
       "      <td>0.2</td>\n",
       "    </tr>\n",
       "    <tr>\n",
       "      <th>4</th>\n",
       "      <td>5.0</td>\n",
       "      <td>3.6</td>\n",
       "      <td>1.4</td>\n",
       "      <td>0.2</td>\n",
       "    </tr>\n",
       "  </tbody>\n",
       "</table>\n",
       "</div>"
      ],
      "text/plain": [
       "   sepal_length  sepal_width  petal_length  petal_width\n",
       "0           5.1          3.5           1.4          0.2\n",
       "1           4.9          3.0           1.4          0.2\n",
       "2           4.7          3.2           1.3          0.2\n",
       "3           4.6          3.1           1.5          0.2\n",
       "4           5.0          3.6           1.4          0.2"
      ]
     },
     "execution_count": 4,
     "metadata": {},
     "output_type": "execute_result"
    }
   ],
   "source": [
    "df.drop(['species'],axis=1 , inplace=True)\n",
    "df.head()"
   ]
  },
  {
   "cell_type": "code",
   "execution_count": 5,
   "id": "963af6ec",
   "metadata": {
    "scrolled": true
   },
   "outputs": [],
   "source": [
    "df.sort_values('sepal_length',inplace=True)\n",
    "df.sort_values('sepal_width',inplace=True)\n",
    "df.sort_values('petal_length',inplace=True)\n",
    "df.sort_values('sepal_width',inplace=True)"
   ]
  },
  {
   "cell_type": "markdown",
   "id": "23ea842e",
   "metadata": {},
   "source": [
    "# sepal_length[statistical values]"
   ]
  },
  {
   "cell_type": "code",
   "execution_count": 6,
   "id": "51f50be1",
   "metadata": {
    "scrolled": true
   },
   "outputs": [
    {
     "name": "stdout",
     "output_type": "stream",
     "text": [
      "60     5.0\n",
      "68     6.2\n",
      "119    6.0\n",
      "62     6.0\n",
      "53     5.5\n",
      "Name: sepal_length, dtype: float64\n",
      "MEAN: 5.843333333333334\n",
      "MEDIAN: 5.8\n",
      "MODE: 0    5.0\n",
      "Name: sepal_length, dtype: float64\n",
      "MAXIUM: 7.9\n",
      "MINIMUM: 4.3\n",
      "VARIANCE: 0.6856935123042507\n",
      "STANDARD DEVIATION: 0.828066127977863\n",
      "COEFFICIENT OF VARIANCE: 14.171125977944033\n",
      "1ST QUARTILE: 0.25    5.1\n",
      "Name: sepal_length, dtype: float64\n",
      "2ST QUARTILE: 0.5    5.8\n",
      "Name: sepal_length, dtype: float64\n",
      "3ST QUARTILE: 0.75    6.4\n",
      "Name: sepal_length, dtype: float64\n",
      "INTER QUARTILE: 1.3000000000000007\n"
     ]
    },
    {
     "data": {
      "text/plain": [
       "{'whiskers': [<matplotlib.lines.Line2D at 0x28b301ce490>,\n",
       "  <matplotlib.lines.Line2D at 0x28b3056f250>],\n",
       " 'caps': [<matplotlib.lines.Line2D at 0x28b3056fe90>,\n",
       "  <matplotlib.lines.Line2D at 0x28b30588b50>],\n",
       " 'boxes': [<matplotlib.lines.Line2D at 0x28b301e9ed0>],\n",
       " 'medians': [<matplotlib.lines.Line2D at 0x28b30589610>],\n",
       " 'fliers': [<matplotlib.lines.Line2D at 0x28b3058a010>],\n",
       " 'means': []}"
      ]
     },
     "execution_count": 6,
     "metadata": {},
     "output_type": "execute_result"
    },
    {
     "data": {
      "image/png": "[encoded data removed]",
      "text/plain": [
       "<Figure size 640x480 with 1 Axes>"
      ]
     },
     "metadata": {},
     "output_type": "display_data"
    }
   ],
   "source": [
    "sep_len=df['sepal_length']\n",
    "print(sep_len.head(5))\n",
    "print(\"MEAN:\",sep_len.mean())\n",
    "print(\"MEDIAN:\",sep_len.median())\n",
    "print(\"MODE:\",sep_len.mode())\n",
    "print(\"MAXIUM:\",sep_len.max())\n",
    "print(\"MINIMUM:\",sep_len.min())\n",
    "print(\"VARIANCE:\",sep_len.var())\n",
    "print(\"STANDARD DEVIATION:\",sep_len.std())\n",
    "coe=(sep_len.std()/sep_len.mean())*100\n",
    "print(\"COEFFICIENT OF VARIANCE:\",coe)\n",
    "q1=sep_len.quantile([.25])\n",
    "q2=sep_len.quantile([.5])\n",
    "q3=sep_len.quantile([.75])\n",
    "print(\"1ST QUARTILE:\",q1)\n",
    "print(\"2ST QUARTILE:\",q2)\n",
    "print(\"3ST QUARTILE:\",q3)\n",
    "iq=df['sepal_length'].quantile([.25,.5,.75])\n",
    "iqr=iq[0.75]-iq[0.25]\n",
    "print(\"INTER QUARTILE:\",iqr)\n",
    "import matplotlib.pyplot as plt\n",
    "plt.boxplot(sep_len)"
   ]
  },
  {
   "cell_type": "markdown",
   "id": "89649587",
   "metadata": {},
   "source": [
    "# sepal_width[statistical values]"
   ]
  },
  {
   "cell_type": "code",
   "execution_count": 7,
   "id": "912a925d",
   "metadata": {},
   "outputs": [
    {
     "name": "stdout",
     "output_type": "stream",
     "text": [
      "60     2.0\n",
      "68     2.2\n",
      "119    2.2\n",
      "62     2.2\n",
      "53     2.3\n",
      "Name: sepal_width, dtype: float64\n",
      "MEAN: 3.054\n",
      "MEDIAN: 3.0\n",
      "MODE: 0    3.0\n",
      "Name: sepal_width, dtype: float64\n",
      "MAXIUM: 4.4\n",
      "MINIMUM: 2.0\n",
      "VARIANCE: 0.18800402684563766\n",
      "STANDARD DEVIATION: 0.43359431136217375\n",
      "COEFFICIENT OF VARIANCE: 14.197587143489645\n",
      "1ST QUARTILE: 0.25    2.8\n",
      "Name: sepal_width, dtype: float64\n",
      "2ST QUARTILE: 0.5    3.0\n",
      "Name: sepal_width, dtype: float64\n",
      "3ST QUARTILE: 0.75    3.3\n",
      "Name: sepal_width, dtype: float64\n",
      "INTER QUARTILE: 0.5\n"
     ]
    },
    {
     "data": {
      "text/plain": [
       "{'whiskers': [<matplotlib.lines.Line2D at 0x28b30e25dd0>,\n",
       "  <matplotlib.lines.Line2D at 0x28b30e26810>],\n",
       " 'caps': [<matplotlib.lines.Line2D at 0x28b30e27190>,\n",
       "  <matplotlib.lines.Line2D at 0x28b30e27a90>],\n",
       " 'boxes': [<matplotlib.lines.Line2D at 0x28b30e254d0>],\n",
       " 'medians': [<matplotlib.lines.Line2D at 0x28b30e34350>],\n",
       " 'fliers': [<matplotlib.lines.Line2D at 0x28b30e34b50>],\n",
       " 'means': []}"
      ]
     },
     "execution_count": 7,
     "metadata": {},
     "output_type": "execute_result"
    },
    {
     "data": {
      "image/png": "[encoded data removed]",
      "text/plain": [
       "<Figure size 640x480 with 1 Axes>"
      ]
     },
     "metadata": {},
     "output_type": "display_data"
    }
   ],
   "source": [
    "sep_width=df['sepal_width']\n",
    "print(sep_width.head())\n",
    "print(\"MEAN:\",sep_width.mean())\n",
    "print(\"MEDIAN:\",sep_width.median())\n",
    "print(\"MODE:\",sep_width.mode())\n",
    "print(\"MAXIUM:\",sep_width.max())\n",
    "print(\"MINIMUM:\",sep_width.min())\n",
    "print(\"VARIANCE:\",sep_width.var())\n",
    "print(\"STANDARD DEVIATION:\",sep_width.std())\n",
    "coe=(sep_width.std()/sep_width.mean())*100\n",
    "print(\"COEFFICIENT OF VARIANCE:\",coe)\n",
    "q1=sep_width.quantile([.25])\n",
    "q2=sep_width.quantile([.5])\n",
    "q3=sep_width.quantile([.75])\n",
    "print(\"1ST QUARTILE:\",q1)\n",
    "print(\"2ST QUARTILE:\",q2)\n",
    "print(\"3ST QUARTILE:\",q3)\n",
    "iq=df['sepal_width'].quantile([.25,.5,.75])\n",
    "iqr=iq[0.75]-iq[0.25]\n",
    "print(\"INTER QUARTILE:\",iqr)\n",
    "import matplotlib.pyplot as plt\n",
    "plt.boxplot(sep_width)"
   ]
  },
  {
   "cell_type": "markdown",
   "id": "fad501bf",
   "metadata": {},
   "source": [
    "# petal_length[statistical values]"
   ]
  },
  {
   "cell_type": "code",
   "execution_count": 8,
   "id": "3921250e",
   "metadata": {},
   "outputs": [
    {
     "name": "stdout",
     "output_type": "stream",
     "text": [
      "60     3.5\n",
      "68     4.5\n",
      "119    5.0\n",
      "62     4.0\n",
      "53     4.0\n",
      "Name: petal_length, dtype: float64\n",
      "MEAN: 3.758666666666666\n",
      "MEDIAN: 4.35\n",
      "MODE: 0    1.5\n",
      "Name: petal_length, dtype: float64\n",
      "MAXIUM: 6.9\n",
      "MINIMUM: 1.0\n",
      "VARIANCE: 3.1131794183445205\n",
      "STANDARD DEVIATION: 1.764420419952263\n",
      "COEFFICIENT OF VARIANCE: 46.94272135382042\n",
      "1ST QUARTILE: 0.25    1.6\n",
      "Name: petal_length, dtype: float64\n",
      "2ST QUARTILE: 0.5    4.35\n",
      "Name: petal_length, dtype: float64\n",
      "3ST QUARTILE: 0.75    5.1\n",
      "Name: petal_length, dtype: float64\n",
      "INTER QUARTILE: 3.4999999999999996\n"
     ]
    },
    {
     "data": {
      "text/plain": [
       "{'whiskers': [<matplotlib.lines.Line2D at 0x28b305c8190>,\n",
       "  <matplotlib.lines.Line2D at 0x28b305c8bd0>],\n",
       " 'caps': [<matplotlib.lines.Line2D at 0x28b305c9550>,\n",
       "  <matplotlib.lines.Line2D at 0x28b305c9cd0>],\n",
       " 'boxes': [<matplotlib.lines.Line2D at 0x28b30e9f810>],\n",
       " 'medians': [<matplotlib.lines.Line2D at 0x28b305ca650>],\n",
       " 'fliers': [<matplotlib.lines.Line2D at 0x28b305cae90>],\n",
       " 'means': []}"
      ]
     },
     "execution_count": 8,
     "metadata": {},
     "output_type": "execute_result"
    },
    {
     "data": {
      "image/png": "[encoded data removed]",
      "text/plain": [
       "<Figure size 640x480 with 1 Axes>"
      ]
     },
     "metadata": {},
     "output_type": "display_data"
    }
   ],
   "source": [
    "pet_len=df['petal_length']\n",
    "print(pet_len.head())\n",
    "print(\"MEAN:\",pet_len.mean())\n",
    "print(\"MEDIAN:\",pet_len.median())\n",
    "print(\"MODE:\",pet_len.mode())\n",
    "print(\"MAXIUM:\",pet_len.max())\n",
    "print(\"MINIMUM:\",pet_len.min())\n",
    "print(\"VARIANCE:\",pet_len.var())\n",
    "print(\"STANDARD DEVIATION:\",pet_len.std())\n",
    "coe=(pet_len.std()/pet_len.mean())*100\n",
    "print(\"COEFFICIENT OF VARIANCE:\",coe)\n",
    "q1=pet_len.quantile([.25])\n",
    "q2=pet_len.quantile([.5])\n",
    "q3=pet_len.quantile([.75])\n",
    "print(\"1ST QUARTILE:\",q1)\n",
    "print(\"2ST QUARTILE:\",q2)\n",
    "print(\"3ST QUARTILE:\",q3)\n",
    "iq=df['petal_length'].quantile([.25,.5,.75])\n",
    "iqr=iq[0.75]-iq[0.25]\n",
    "print(\"INTER QUARTILE:\",iqr)\n",
    "import matplotlib.pyplot as plt\n",
    "plt.boxplot(pet_len)\n"
   ]
  },
  {
   "cell_type": "code",
   "execution_count": 9,
   "id": "a27fb9c7",
   "metadata": {},
   "outputs": [
    {
     "name": "stdout",
     "output_type": "stream",
     "text": [
      "60     1.0\n",
      "68     1.5\n",
      "119    1.5\n",
      "62     1.0\n",
      "53     1.3\n",
      "Name: petal_width, dtype: float64\n",
      "MEAN: 1.1986666666666668\n",
      "MEDIAN: 1.3\n",
      "MODE: 0    0.2\n",
      "Name: petal_width, dtype: float64\n",
      "MAXIUM: 2.5\n",
      "MINIMUM: 0.1\n",
      "VARIANCE: 0.5824143176733778\n",
      "STANDARD DEVIATION: 0.763160741700841\n",
      "1ST QUARTILE: 0.25    0.3\n",
      "Name: petal_width, dtype: float64\n",
      "2ST QUARTILE: 0.5    1.3\n",
      "Name: petal_width, dtype: float64\n",
      "3ST QUARTILE: 0.75    1.8\n",
      "Name: petal_width, dtype: float64\n",
      "INTER QUARTILE: 1.5\n"
     ]
    },
    {
     "data": {
      "text/plain": [
       "{'whiskers': [<matplotlib.lines.Line2D at 0x28b3062d550>,\n",
       "  <matplotlib.lines.Line2D at 0x28b3062df10>],\n",
       " 'caps': [<matplotlib.lines.Line2D at 0x28b3062e810>,\n",
       "  <matplotlib.lines.Line2D at 0x28b3062f150>],\n",
       " 'boxes': [<matplotlib.lines.Line2D at 0x28b3062cb10>],\n",
       " 'medians': [<matplotlib.lines.Line2D at 0x28b3062f990>],\n",
       " 'fliers': [<matplotlib.lines.Line2D at 0x28b3062e5d0>],\n",
       " 'means': []}"
      ]
     },
     "execution_count": 9,
     "metadata": {},
     "output_type": "execute_result"
    },
    {
     "data": {
      "image/png": "[encoded data removed]",
      "text/plain": [
       "<Figure size 640x480 with 1 Axes>"
      ]
     },
     "metadata": {},
     "output_type": "display_data"
    }
   ],
   "source": [
    "pet_width=df['petal_width']\n",
    "print(pet_width.head())\n",
    "print(\"MEAN:\",pet_width.mean())\n",
    "print(\"MEDIAN:\",pet_width.median())\n",
    "print(\"MODE:\",pet_width.mode())\n",
    "print(\"MAXIUM:\",pet_width.max())\n",
    "print(\"MINIMUM:\",pet_width.min())\n",
    "print(\"VARIANCE:\",pet_width.var())\n",
    "print(\"STANDARD DEVIATION:\",pet_width.std())\n",
    "coe=(pet_width.std()/pet_width.mean())*100\n",
    "q1=pet_width.quantile([.25])\n",
    "q2=pet_width.quantile([.5])\n",
    "q3=pet_width.quantile([.75])\n",
    "print(\"1ST QUARTILE:\",q1)\n",
    "print(\"2ST QUARTILE:\",q2)\n",
    "print(\"3ST QUARTILE:\",q3)\n",
    "iq=df['petal_width'].quantile([.25,.5,.75])\n",
    "iqr=iq[0.75]-iq[0.25]\n",
    "print(\"INTER QUARTILE:\",iqr)\n",
    "import matplotlib.pyplot as plt\n",
    "plt.boxplot(pet_width)"
   ]
  },
  {
   "cell_type": "code",
   "execution_count": null,
   "id": "3dd1f00f",
   "metadata": {},
   "outputs": [],
   "source": []
  }
 ],
 "metadata": {
  "kernelspec": {
   "display_name": "Python 3 (ipykernel)",
   "language": "python",
   "name": "python3"
  },
  "language_info": {
   "codemirror_mode": {
    "name": "ipython",
    "version": 3
   },
   "file_extension": ".py",
   "mimetype": "text/x-python",
   "name": "python",
   "nbconvert_exporter": "python",
   "pygments_lexer": "ipython3",
   "version": "3.11.5"
  }
 },
 "nbformat": 4,
 "nbformat_minor": 5
}
