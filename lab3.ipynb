{
 "cells": [
  {
   "cell_type": "markdown",
   "id": "5999ef83",
   "metadata": {},
   "source": [
    "# Frequency bins[smoothing]"
   ]
  },
  {
   "cell_type": "code",
   "execution_count": 4,
   "id": "ad4c5dd4",
   "metadata": {
    "scrolled": true
   },
   "outputs": [
    {
     "name": "stdout",
     "output_type": "stream",
     "text": [
      "[5, 10]\n",
      "[11, 13]\n",
      "[15, 35]\n",
      "[50, 55]\n",
      "[72, 92]\n",
      "[204, 215]\n"
     ]
    }
   ],
   "source": [
    "def equifreq(arr1,m):\n",
    "    a=len(arr1)\n",
    "    n=int(a/m)\n",
    "    for i in range(0,m):\n",
    "        arr=[]\n",
    "        for j in range(i*n,(i+1)*n):\n",
    "            if j>=a:\n",
    "                break\n",
    "            arr=arr+[arr1[j]]\n",
    "        print(arr)\n",
    "data = [5, 10, 11, 13, 15, 35, 50, 55, 72, 92, 204, 215] \n",
    "m=6\n",
    "equifreq(data,m)"
   ]
  },
  {
   "cell_type": "markdown",
   "id": "443064f3",
   "metadata": {},
   "source": [
    "# Frequency bins[age dataset]\n",
    "<h3>Equi frequency</h3>\n",
    "<h3>cut method</h3>"
   ]
  },
  {
   "cell_type": "code",
   "execution_count": 8,
   "id": "08970dfe",
   "metadata": {},
   "outputs": [
    {
     "name": "stdout",
     "output_type": "stream",
     "text": [
      "    age Age_bin\n",
      "0    13    0-18\n",
      "1    15    0-18\n",
      "2    16    0-18\n",
      "3    16    0-18\n",
      "4    19    8-25\n",
      "5    20    8-25\n",
      "6    20    8-25\n",
      "7    21    8-25\n",
      "8    22    8-25\n",
      "9    22    8-25\n",
      "10   25    8-25\n",
      "11   25    8-25\n",
      "12   25    8-25\n",
      "13   25    8-25\n",
      "14   30   25-35\n",
      "15   33   25-35\n",
      "16   33   25-35\n",
      "17   35   25-35\n",
      "18   35   25-35\n",
      "19   35   25-35\n",
      "20   35   25-35\n",
      "21   36   35-50\n",
      "22   40   35-50\n",
      "23   45   35-50\n",
      "24   46   35-50\n",
      "25   52   50-65\n",
      "26   70     65+\n"
     ]
    }
   ],
   "source": [
    "import pandas as pd\n",
    "data=pd.read_excel(\"age.xlsx\")\n",
    "data['Age_bin']=pd.cut(data['age'],\n",
    "bins=[0,18,25,35,50,65,100],\n",
    "labels=['0-18','8-25','25-35','35-50','50-65','65+'])\n",
    "print(data)"
   ]
  },
  {
   "cell_type": "code",
   "execution_count": 20,
   "id": "fbd29441",
   "metadata": {},
   "outputs": [
    {
     "name": "stdout",
     "output_type": "stream",
     "text": [
      "    age      Age_bin\n",
      "0    13        Minor\n",
      "1    15        Minor\n",
      "2    16        Minor\n",
      "3    16        Minor\n",
      "4    19   Adolescent\n",
      "5    20   Adolescent\n",
      "6    20   Adolescent\n",
      "7    21   Adolescent\n",
      "8    22   Adolescent\n",
      "9    22   Adolescent\n",
      "10   25   Adolescent\n",
      "11   25   Adolescent\n",
      "12   25   Adolescent\n",
      "13   25   Adolescent\n",
      "14   30        Adult\n",
      "15   33        Adult\n",
      "16   33        Adult\n",
      "17   35        Adult\n",
      "18   35        Adult\n",
      "19   35        Adult\n",
      "20   35        Adult\n",
      "21   36    MiddleAge\n",
      "22   40    MiddleAge\n",
      "23   45    MiddleAge\n",
      "24   46    MiddleAge\n",
      "25   52       Senior\n",
      "26   70  superSenior\n"
     ]
    }
   ],
   "source": [
    "import pandas as pd\n",
    "data=pd.read_excel(\"age.xlsx\")\n",
    "data['Age_bin']=pd.cut(data['age'],\n",
    "bins=[0,18,25,35,50,65,100],\n",
    "labels=['Minor','Adolescent','Adult','MiddleAge','Senior','superSenior'])\n",
    "print(data)"
   ]
  },
  {
   "cell_type": "markdown",
   "id": "d2821999",
   "metadata": {},
   "source": [
    "# frequency bins[iris dataset]"
   ]
  },
  {
   "cell_type": "code",
   "execution_count": 17,
   "id": "e1193ac4",
   "metadata": {},
   "outputs": [
    {
     "name": "stdout",
     "output_type": "stream",
     "text": [
      "[5.1, 4.9, 4.7, 4.6, 5.0, 5.4, 4.6, 5.0, 4.4, 4.9, 5.4, 4.8, 4.8, 4.3, 5.8]\n",
      "[5.7, 5.4, 5.1, 5.7, 5.1, 5.4, 5.1, 4.6, 5.1, 4.8, 5.0, 5.0, 5.2, 5.2, 4.7]\n",
      "[4.8, 5.4, 5.2, 5.5, 4.9, 5.0, 5.5, 4.9, 4.4, 5.1, 5.0, 4.5, 4.4, 5.0, 5.1]\n",
      "[4.8, 5.1, 4.6, 5.3, 5.0, 7.0, 6.4, 6.9, 5.5, 6.5, 5.7, 6.3, 4.9, 6.6, 5.2]\n",
      "[5.0, 5.9, 6.0, 6.1, 5.6, 6.7, 5.6, 5.8, 6.2, 5.6, 5.9, 6.1, 6.3, 6.1, 6.4]\n",
      "[6.6, 6.8, 6.7, 6.0, 5.7, 5.5, 5.5, 5.8, 6.0, 5.4, 6.0, 6.7, 6.3, 5.6, 5.5]\n",
      "[5.5, 6.1, 5.8, 5.0, 5.6, 5.7, 5.7, 6.2, 5.1, 5.7, 6.3, 5.8, 7.1, 6.3, 6.5]\n",
      "[7.6, 4.9, 7.3, 6.7, 7.2, 6.5, 6.4, 6.8, 5.7, 5.8, 6.4, 6.5, 7.7, 7.7, 6.0]\n",
      "[6.9, 5.6, 7.7, 6.3, 6.7, 7.2, 6.2, 6.1, 6.4, 7.2, 7.4, 7.9, 6.4, 6.3, 6.1]\n",
      "[7.7, 6.3, 6.4, 6.0, 6.9, 6.7, 6.9, 5.8, 6.8, 6.7, 6.7, 6.3, 6.5, 6.2, 5.9]\n"
     ]
    }
   ],
   "source": [
    "import pandas as pd\n",
    "def equifreq(arr1,m):\n",
    "    a=len(arr1)\n",
    "    n=int(a/m)\n",
    "    for i in range(0,m):\n",
    "        arr=[]\n",
    "        for j in range(i*n,(i+1)*n):\n",
    "            if j>=a:\n",
    "                break\n",
    "            arr=arr+[arr1[j]]\n",
    "        print(arr)\n",
    "data = pd.read_csv(\"iris.csv\")\n",
    "sep_len=data['sepal_length']\n",
    "m=10\n",
    "equifreq(sep_len,m)"
   ]
  },
  {
   "cell_type": "code",
   "execution_count": null,
   "id": "76c4423b",
   "metadata": {},
   "outputs": [],
   "source": [
    "import pandas as pd\n",
    "data = pd.read_csv(\"iris.csv\")\n",
    "data['sep_length_bin'] = pd.cut(data['sepal_length'], \n",
    "bins=[4.5,5.0,5.5,6.0,6.5,7.0,7.5],\n",
    "labels=['class A','class B','class C','class D','class E','class F'])\n",
    "print(data[['sepal_length','sep_length_bin']].head())"
   ]
  },
  {
   "cell_type": "code",
   "execution_count": 8,
   "id": "0401ea98",
   "metadata": {},
   "outputs": [
    {
     "name": "stdout",
     "output_type": "stream",
     "text": [
      "[3.5, 3.0, 3.2, 3.1, 3.6, 3.9, 3.4, 3.4, 2.9, 3.1, 3.7, 3.4, 3.0, 3.0, 4.0]\n",
      "[4.4, 3.9, 3.5, 3.8, 3.8, 3.4, 3.7, 3.6, 3.3, 3.4, 3.0, 3.4, 3.5, 3.4, 3.2]\n",
      "[3.1, 3.4, 4.1, 4.2, 3.1, 3.2, 3.5, 3.1, 3.0, 3.4, 3.5, 2.3, 3.2, 3.5, 3.8]\n",
      "[3.0, 3.8, 3.2, 3.7, 3.3, 3.2, 3.2, 3.1, 2.3, 2.8, 2.8, 3.3, 2.4, 2.9, 2.7]\n",
      "[2.0, 3.0, 2.2, 2.9, 2.9, 3.1, 3.0, 2.7, 2.2, 2.5, 3.2, 2.8, 2.5, 2.8, 2.9]\n",
      "[3.0, 2.8, 3.0, 2.9, 2.6, 2.4, 2.4, 2.7, 2.7, 3.0, 3.4, 3.1, 2.3, 3.0, 2.5]\n",
      "[2.6, 3.0, 2.6, 2.3, 2.7, 3.0, 2.9, 2.9, 2.5, 2.8, 3.3, 2.7, 3.0, 2.9, 3.0]\n",
      "[3.0, 2.5, 2.9, 2.5, 3.6, 3.2, 2.7, 3.0, 2.5, 2.8, 3.2, 3.0, 3.8, 2.6, 2.2]\n",
      "[3.2, 2.8, 2.8, 2.7, 3.3, 3.2, 2.8, 3.0, 2.8, 3.0, 2.8, 3.8, 2.8, 2.8, 2.6]\n",
      "[3.0, 3.4, 3.1, 3.0, 3.1, 3.1, 3.1, 2.7, 3.2, 3.3, 3.0, 2.5, 3.0, 3.4, 3.0]\n"
     ]
    }
   ],
   "source": [
    "import pandas as pd\n",
    "def equifreq(arr1,m):\n",
    "    a=len(arr1)\n",
    "    n=int(a/m)\n",
    "    for i in range(0,m):\n",
    "        arr=[]\n",
    "        for j in range(i*n,(i+1)*n):\n",
    "            if j>=a:\n",
    "                break\n",
    "            arr=arr+[arr1[j]]\n",
    "        print(arr)\n",
    "data = pd.read_csv(\"iris.csv\")\n",
    "sep_len=data['sepal_width']\n",
    "m=10\n",
    "equifreq(sep_len,m)"
   ]
  },
  {
   "cell_type": "code",
   "execution_count": 7,
   "id": "58e95fb6",
   "metadata": {},
   "outputs": [
    {
     "name": "stdout",
     "output_type": "stream",
     "text": [
      "   sepal_length sep_width_bin\n",
      "0           5.1       class C\n",
      "1           4.9       class B\n",
      "2           4.7       class C\n",
      "3           4.6       class C\n",
      "4           5.0       class D\n"
     ]
    }
   ],
   "source": [
    "import pandas as pd\n",
    "data = pd.read_csv(\"iris.csv\")\n",
    "data['sep_width_bin'] = pd.cut(data['sepal_width'], \n",
    "bins=[2.0,2.5,3.0,3.5,4.0],\n",
    "labels=['class A','class B','class C','class D'])\n",
    "print(data[['sepal_width','sep_width_bin']].head())"
   ]
  },
  {
   "cell_type": "code",
   "execution_count": 9,
   "id": "9ffb5f37",
   "metadata": {},
   "outputs": [
    {
     "name": "stdout",
     "output_type": "stream",
     "text": [
      "[1.4, 1.4, 1.3, 1.5, 1.4, 1.7, 1.4, 1.5, 1.4, 1.5, 1.5, 1.6, 1.4, 1.1, 1.2]\n",
      "[1.5, 1.3, 1.4, 1.7, 1.5, 1.7, 1.5, 1.0, 1.7, 1.9, 1.6, 1.6, 1.5, 1.4, 1.6]\n",
      "[1.6, 1.5, 1.5, 1.4, 1.5, 1.2, 1.3, 1.5, 1.3, 1.5, 1.3, 1.3, 1.3, 1.6, 1.9]\n",
      "[1.4, 1.6, 1.4, 1.5, 1.4, 4.7, 4.5, 4.9, 4.0, 4.6, 4.5, 4.7, 3.3, 4.6, 3.9]\n",
      "[3.5, 4.2, 4.0, 4.7, 3.6, 4.4, 4.5, 4.1, 4.5, 3.9, 4.8, 4.0, 4.9, 4.7, 4.3]\n",
      "[4.4, 4.8, 5.0, 4.5, 3.5, 3.8, 3.7, 3.9, 5.1, 4.5, 4.5, 4.7, 4.4, 4.1, 4.0]\n",
      "[4.4, 4.6, 4.0, 3.3, 4.2, 4.2, 4.2, 4.3, 3.0, 4.1, 6.0, 5.1, 5.9, 5.6, 5.8]\n",
      "[6.6, 4.5, 6.3, 5.8, 6.1, 5.1, 5.3, 5.5, 5.0, 5.1, 5.3, 5.5, 6.7, 6.9, 5.0]\n",
      "[5.7, 4.9, 6.7, 4.9, 5.7, 6.0, 4.8, 4.9, 5.6, 5.8, 6.1, 6.4, 5.6, 5.1, 5.6]\n",
      "[6.1, 5.6, 5.5, 4.8, 5.4, 5.6, 5.1, 5.1, 5.9, 5.7, 5.2, 5.0, 5.2, 5.4, 5.1]\n"
     ]
    }
   ],
   "source": [
    "import pandas as pd\n",
    "def equifreq(arr1,m):\n",
    "    a=len(arr1)\n",
    "    n=int(a/m)\n",
    "    for i in range(0,m):\n",
    "        arr=[]\n",
    "        for j in range(i*n,(i+1)*n):\n",
    "            if j>=a:\n",
    "                break\n",
    "            arr=arr+[arr1[j]]\n",
    "        print(arr)\n",
    "data = pd.read_csv(\"iris.csv\")\n",
    "sep_len=data['petal_length']\n",
    "m=10\n",
    "equifreq(sep_len,m)"
   ]
  },
  {
   "cell_type": "code",
   "execution_count": 21,
   "id": "03247380",
   "metadata": {},
   "outputs": [
    {
     "name": "stdout",
     "output_type": "stream",
     "text": [
      "   petal_length pet_length_bin\n",
      "0           1.4        class A\n",
      "1           1.4        class A\n",
      "2           1.3        class A\n",
      "3           1.5        class A\n",
      "4           1.4        class A\n"
     ]
    }
   ],
   "source": [
    "import pandas as pd\n",
    "data = pd.read_csv(\"iris.csv\")\n",
    "data['pet_length_bin'] = pd.cut(data['petal_length'], \n",
    "bins=[1.0,2.0,3.0,4.0,5.0,6.0],\n",
    "labels=['class A','class B','class C','class D','class E'])\n",
    "print(data[['petal_length','pet_length_bin']].head(5))"
   ]
  },
  {
   "cell_type": "code",
   "execution_count": 16,
   "id": "cfa41cb6",
   "metadata": {},
   "outputs": [
    {
     "name": "stdout",
     "output_type": "stream",
     "text": [
      "[0.2, 0.2, 0.2, 0.2, 0.2, 0.4, 0.3, 0.2, 0.2, 0.1, 0.2, 0.2, 0.1, 0.1, 0.2]\n",
      "[0.4, 0.4, 0.3, 0.3, 0.3, 0.2, 0.4, 0.2, 0.5, 0.2, 0.2, 0.4, 0.2, 0.2, 0.2]\n",
      "[0.2, 0.4, 0.1, 0.2, 0.1, 0.2, 0.2, 0.1, 0.2, 0.2, 0.3, 0.3, 0.2, 0.6, 0.4]\n",
      "[0.3, 0.2, 0.2, 0.2, 0.2, 1.4, 1.5, 1.5, 1.3, 1.5, 1.3, 1.6, 1.0, 1.3, 1.4]\n",
      "[1.0, 1.5, 1.0, 1.4, 1.3, 1.4, 1.5, 1.0, 1.5, 1.1, 1.8, 1.3, 1.5, 1.2, 1.3]\n",
      "[1.4, 1.4, 1.7, 1.5, 1.0, 1.1, 1.0, 1.2, 1.6, 1.5, 1.6, 1.5, 1.3, 1.3, 1.3]\n",
      "[1.2, 1.4, 1.2, 1.0, 1.3, 1.2, 1.3, 1.3, 1.1, 1.3, 2.5, 1.9, 2.1, 1.8, 2.2]\n",
      "[2.1, 1.7, 1.8, 1.8, 2.5, 2.0, 1.9, 2.1, 2.0, 2.4, 2.3, 1.8, 2.2, 2.3, 1.5]\n",
      "[2.3, 2.0, 2.0, 1.8, 2.1, 1.8, 1.8, 1.8, 2.1, 1.6, 1.9, 2.0, 2.2, 1.5, 1.4]\n",
      "[2.3, 2.4, 1.8, 1.8, 2.1, 2.4, 2.3, 1.9, 2.3, 2.5, 2.3, 1.9, 2.0, 2.3, 1.8]\n"
     ]
    }
   ],
   "source": [
    "import pandas as pd\n",
    "def equifreq(arr1,m):\n",
    "    a=len(arr1)\n",
    "    n=int(a/m)\n",
    "    for i in range(0,m):\n",
    "        arr=[]\n",
    "        for j in range(i*n,(i+1)*n):\n",
    "            if j>=a:\n",
    "                break\n",
    "            arr=arr+[arr1[j]]\n",
    "        print(arr)\n",
    "data = pd.read_csv(\"iris.csv\")\n",
    "sep_len=data['petal_width']\n",
    "m=10\n",
    "equifreq(sep_len,m)"
   ]
  },
  {
   "cell_type": "code",
   "execution_count": 27,
   "id": "203e934b",
   "metadata": {},
   "outputs": [
    {
     "name": "stdout",
     "output_type": "stream",
     "text": [
      "    petal_width pet_width_bin\n",
      "0           0.2       class A\n",
      "1           0.2       class A\n",
      "2           0.2       class A\n",
      "3           0.2       class A\n",
      "4           0.2       class A\n",
      "5           0.4       class A\n",
      "6           0.3       class A\n",
      "7           0.2       class A\n",
      "8           0.2       class A\n",
      "9           0.1       class A\n",
      "10          0.2       class A\n",
      "11          0.2       class A\n",
      "12          0.1       class A\n",
      "13          0.1       class A\n",
      "14          0.2       class A\n"
     ]
    }
   ],
   "source": [
    "import pandas as pd\n",
    "data = pd.read_csv(\"iris.csv\")\n",
    "data['pet_width_bin'] = pd.cut(data['petal_width'], \n",
    "bins=[0.0,0.5,1.0,2.0],\n",
    "labels=['class A','class B','class C'])\n",
    "print(data[['petal_width','pet_width_bin']].head(15))"
   ]
  },
  {
   "cell_type": "code",
   "execution_count": null,
   "id": "d18d2a6d",
   "metadata": {},
   "outputs": [],
   "source": []
  }
 ],
 "metadata": {
  "kernelspec": {
   "display_name": "Python 3 (ipykernel)",
   "language": "python",
   "name": "python3"
  },
  "language_info": {
   "codemirror_mode": {
    "name": "ipython",
    "version": 3
   },
   "file_extension": ".py",
   "mimetype": "text/x-python",
   "name": "python",
   "nbconvert_exporter": "python",
   "pygments_lexer": "ipython3",
   "version": "3.11.5"
  }
 },
 "nbformat": 4,
 "nbformat_minor": 5
}
