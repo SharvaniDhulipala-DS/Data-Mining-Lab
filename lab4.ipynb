{
 "cells": [
  {
   "cell_type": "markdown",
   "id": "6e40795d",
   "metadata": {},
   "source": [
    "AGE DATASET---BINNING TECHNIQUES\n",
    "<h3>equi frequency</h3>\n",
    "<h3>mean</h3>\n",
    "<h3>median</h3>\n",
    "<h3>boundaries</h3>"
   ]
  },
  {
   "cell_type": "code",
   "execution_count": 2,
   "id": "9ba43e06",
   "metadata": {},
   "outputs": [
    {
     "name": "stdout",
     "output_type": "stream",
     "text": [
      "   age\n",
      "0   13\n",
      "1   15\n",
      "2   16\n",
      "3   16\n",
      "4   19\n"
     ]
    }
   ],
   "source": [
    "import pandas as pd\n",
    "import numpy as np\n",
    "df=pd.read_excel(\"age.xlsx\")\n",
    "print(df.head())"
   ]
  },
  {
   "cell_type": "code",
   "execution_count": 3,
   "id": "d0097bf0",
   "metadata": {},
   "outputs": [
    {
     "name": "stdout",
     "output_type": "stream",
     "text": [
      "0    13\n",
      "1    15\n",
      "2    16\n",
      "3    16\n",
      "4    19\n",
      "Name: age, dtype: int64\n",
      "[13, 15, 16, 16, 19, 20, 20, 21, 22, 22, 25, 25, 25, 25, 30, 33, 33, 35, 35, 35, 35, 36, 40, 45, 46, 52, 70]\n"
     ]
    }
   ],
   "source": [
    "p=df['age']\n",
    "print(p.head())\n",
    "t=[]\n",
    "for i in p:\n",
    "    t.append(i)\n",
    "    t.sort()\n",
    "print(t)"
   ]
  },
  {
   "cell_type": "code",
   "execution_count": 4,
   "id": "a7f6eefe",
   "metadata": {},
   "outputs": [
    {
     "name": "stdout",
     "output_type": "stream",
     "text": [
      "[13, 15, 16, 16, 19, 20, 20, 21, 22]\n",
      "[22, 25, 25, 25, 25, 30, 33, 33, 35]\n",
      "[35, 35, 35, 36, 40, 45, 46, 52, 70]\n"
     ]
    }
   ],
   "source": [
    "import pandas as pd\n",
    "def equifreq(arr1,m):\n",
    "    a=len(arr1)\n",
    "    n=int(a/m)\n",
    "    for i in range(0,m):\n",
    "        arr=[]\n",
    "        for j in range(i*n,(i+1)*n):\n",
    "            if j>=a:\n",
    "                break\n",
    "            arr=arr+[arr1[j]]\n",
    "        print(arr)\n",
    "data = pd.read_excel(\"age.xlsx\")\n",
    "ans=data['age']\n",
    "m=3\n",
    "equifreq(ans,m)"
   ]
  },
  {
   "cell_type": "code",
   "execution_count": 1,
   "id": "8313fa65",
   "metadata": {},
   "outputs": [
    {
     "ename": "NameError",
     "evalue": "name 't' is not defined",
     "output_type": "error",
     "traceback": [
      "\u001b[1;31m---------------------------------------------------------------------------\u001b[0m",
      "\u001b[1;31mNameError\u001b[0m                                 Traceback (most recent call last)",
      "Cell \u001b[1;32mIn[1], line 5\u001b[0m\n\u001b[0;32m      3\u001b[0m \u001b[38;5;28;01mfor\u001b[39;00m i \u001b[38;5;129;01min\u001b[39;00m \u001b[38;5;28mrange\u001b[39m(\u001b[38;5;241m0\u001b[39m,\u001b[38;5;241m27\u001b[39m,\u001b[38;5;241m9\u001b[39m):\n\u001b[0;32m      4\u001b[0m     k\u001b[38;5;241m=\u001b[39m\u001b[38;5;28mint\u001b[39m(i\u001b[38;5;241m/\u001b[39m\u001b[38;5;241m9\u001b[39m)\n\u001b[1;32m----> 5\u001b[0m     mean\u001b[38;5;241m=\u001b[39m(t[i]\u001b[38;5;241m+\u001b[39mt[i\u001b[38;5;241m+\u001b[39m\u001b[38;5;241m1\u001b[39m]\u001b[38;5;241m+\u001b[39mt[i\u001b[38;5;241m+\u001b[39m\u001b[38;5;241m2\u001b[39m]\u001b[38;5;241m+\u001b[39mt[i\u001b[38;5;241m+\u001b[39m\u001b[38;5;241m3\u001b[39m]\u001b[38;5;241m+\u001b[39mt[i\u001b[38;5;241m+\u001b[39m\u001b[38;5;241m4\u001b[39m]\u001b[38;5;241m+\u001b[39mt[i\u001b[38;5;241m+\u001b[39m\u001b[38;5;241m5\u001b[39m]\u001b[38;5;241m+\u001b[39mt[i\u001b[38;5;241m+\u001b[39m\u001b[38;5;241m6\u001b[39m]\u001b[38;5;241m+\u001b[39mt[i\u001b[38;5;241m+\u001b[39m\u001b[38;5;241m7\u001b[39m]\u001b[38;5;241m+\u001b[39mt[i\u001b[38;5;241m+\u001b[39m\u001b[38;5;241m8\u001b[39m])\u001b[38;5;241m/\u001b[39m\u001b[38;5;241m9\u001b[39m\n\u001b[0;32m      6\u001b[0m     \u001b[38;5;28;01mfor\u001b[39;00m j \u001b[38;5;129;01min\u001b[39;00m \u001b[38;5;28mrange\u001b[39m(\u001b[38;5;241m9\u001b[39m):\n\u001b[0;32m      7\u001b[0m         bin1[k,:]\u001b[38;5;241m=\u001b[39mmean\n",
      "\u001b[1;31mNameError\u001b[0m: name 't' is not defined"
     ]
    }
   ],
   "source": [
    "import numpy as np\n",
    "bin1=np.zeros((3,9))\n",
    "for i in range(0,27,9):\n",
    "    k=int(i/9)\n",
    "    mean=(t[i]+t[i+1]+t[i+2]+t[i+3]+t[i+4]+t[i+5]+t[i+6]+t[i+7]+t[i+8])/9\n",
    "    for j in range(9):\n",
    "        bin1[k,:]=mean\n",
    "print(\"bin1 mean \\n\",bin1)"
   ]
  },
  {
   "cell_type": "code",
   "execution_count": 6,
   "id": "66118b92",
   "metadata": {},
   "outputs": [
    {
     "ename": "NameError",
     "evalue": "name 'bin2' is not defined",
     "output_type": "error",
     "traceback": [
      "\u001b[1;31m---------------------------------------------------------------------------\u001b[0m",
      "\u001b[1;31mNameError\u001b[0m                                 Traceback (most recent call last)",
      "Cell \u001b[1;32mIn[6], line 7\u001b[0m\n\u001b[0;32m      5\u001b[0m             bin2[k,j]\u001b[38;5;241m=\u001b[39mt[j]\n\u001b[0;32m      6\u001b[0m         \u001b[38;5;28;01melse\u001b[39;00m:\n\u001b[1;32m----> 7\u001b[0m             bin2[k,j]\u001b[38;5;241m=\u001b[39mt[i\u001b[38;5;241m+\u001b[39m\u001b[38;5;241m8\u001b[39m]\n\u001b[0;32m      8\u001b[0m \u001b[38;5;28mprint\u001b[39m(\u001b[38;5;124m\"\u001b[39m\u001b[38;5;124mBin boundaries: \u001b[39m\u001b[38;5;130;01m\\n\u001b[39;00m\u001b[38;5;124m\"\u001b[39m,bin2)\n",
      "\u001b[1;31mNameError\u001b[0m: name 'bin2' is not defined"
     ]
    }
   ],
   "source": [
    "for i in range (0,27,9):\n",
    "    k=int(i/9)\n",
    "    for j in range(9):\n",
    "        if((t[i+j]-t[i])>(t[i+8]-t[i+j])): \n",
    "            bin2[k,j]=t[j]\n",
    "        else:\n",
    "            bin2[k,j]=t[i+8]\n",
    "print(\"Bin boundaries: \\n\",bin2)"
   ]
  },
  {
   "cell_type": "code",
   "execution_count": null,
   "id": "13a21b76",
   "metadata": {},
   "outputs": [],
   "source": [
    "for i in range (0,27,9):\n",
    "    k=int(i/9)\n",
    "    for j in range (9):\n",
    "        bin3[k,j]=t[i+4]\n",
    "print(\"Bin Median: \\n\",bin3)"
   ]
  },
  {
   "cell_type": "markdown",
   "id": "8c19c50b",
   "metadata": {},
   "source": [
    "# Iris dataset\n"
   ]
  },
  {
   "cell_type": "code",
   "execution_count": null,
   "id": "e022a83f",
   "metadata": {},
   "outputs": [],
   "source": [
    "import pandas as pd\n",
    "import numpy as np\n",
    "df=pd.read_csv(\"iris.csv\")\n",
    "print(df.head())"
   ]
  },
  {
   "cell_type": "markdown",
   "id": "019300c0",
   "metadata": {},
   "source": [
    "# sepal_length"
   ]
  },
  {
   "cell_type": "code",
   "execution_count": null,
   "id": "8e30cc7f",
   "metadata": {},
   "outputs": [],
   "source": [
    "p=df['sepal_length']\n",
    "print(p.head())\n",
    "t_sep_len=[]\n",
    "for i in p:\n",
    "    t_sep_len.append(i)\n",
    "    t_sep_len.sort()\n",
    "print(t_sep_len)"
   ]
  },
  {
   "cell_type": "code",
   "execution_count": null,
   "id": "4e054cb4",
   "metadata": {},
   "outputs": [],
   "source": [
    "def equifreq(arr1,m):\n",
    "    a=len(arr1)\n",
    "    n=int(a/m)\n",
    "    for i in range(0,m):\n",
    "        arr=[]\n",
    "        for j in range(i*n,(i+1)*n):\n",
    "            if j>=a:\n",
    "                break\n",
    "            arr=arr+[arr1[j]]\n",
    "        print(arr)\n",
    "        print(\"___________________\")\n",
    "data=t_sep_len\n",
    "m=10\n",
    "equifreq(data,m)"
   ]
  },
  {
   "cell_type": "code",
   "execution_count": null,
   "id": "c2b86f45",
   "metadata": {},
   "outputs": [],
   "source": [
    "bin1=np.zeros((10,15))\n",
    "for i in range (0,150,15):\n",
    "    k=int(i/15)\n",
    "    mean=(t_sep_len[i]+t_sep_len[i+1]+t_sep_len[i+2]+t_sep_len[i+3]+t_sep_len[i+4]+t_sep_len[i+5]+t_sep_len[i+6]+t_sep_len[i+7]+t_sep_len[i+8]+t_sep_len[i+9]+t_sep_len[i+10]+t_sep_len[i+11]+t_sep_len[i+12]+t_sep_len[i+12]+t_sep_len[i+14])/15\n",
    "    for j in range(15):\n",
    "        bin1[k,j]=mean\n",
    "print(\"Bin Mean: \\n\",bin1)"
   ]
  },
  {
   "cell_type": "code",
   "execution_count": null,
   "id": "5cbc6de6",
   "metadata": {},
   "outputs": [],
   "source": [
    "bin3=np.zeros((10,15))\n",
    "for i in range (0,150,15):\n",
    "    k=int(i/15)\n",
    "    for j in range (15):\n",
    "        bin3[k,j]=t_sep_len[i+7]\n",
    "print(\"Bin Median: \\n\",bin3)"
   ]
  },
  {
   "cell_type": "code",
   "execution_count": null,
   "id": "db8dc449",
   "metadata": {},
   "outputs": [],
   "source": [
    "bin2=np.zeros((10,15))\n",
    "for i in range (0,150,15):\n",
    "    k=int(i/15)\n",
    "    for j in range(15):\n",
    "        if((t[i+j]-t[i])<(t[i+14]-t[i+j])): \n",
    "            bin2[k,j]=t[j]\n",
    "        else:\n",
    "            bin2[k,j]=t[i+8]\n",
    "print(\"Bin boundaries: \\n\",bin2)"
   ]
  },
  {
   "cell_type": "markdown",
   "id": "a4008c2f",
   "metadata": {},
   "source": [
    "# sepal width"
   ]
  },
  {
   "cell_type": "code",
   "execution_count": null,
   "id": "434c12a1",
   "metadata": {},
   "outputs": [],
   "source": [
    "p=df['sepal_width']\n",
    "t=[]\n",
    "print(p.head())\n",
    "for i in p:\n",
    "    t.append(i)\n",
    "t.sort()\n",
    "print(t)"
   ]
  },
  {
   "cell_type": "code",
   "execution_count": null,
   "id": "176d4400",
   "metadata": {},
   "outputs": [],
   "source": [
    "bin1=np.zeros((10,15))\n",
    "bin2=np.zeros((10,15))\n",
    "bin3=np.zeros((10,15))\n",
    "for i in range (0,150,15):\n",
    "    k=int(i/15)\n",
    "    mean=(t[i]+t[i+1]+t[i+2]+t[i+3]+t[i+4]+t[i+5]+t[i+6]+t[i+7]+t[i+8]+t[i+9]+t[i+10]+t[i+11]+t[i+12]+t[i+12]+t[i+14])/15\n",
    "    for j in range(15):\n",
    "        bin1[k,j]=mean\n",
    "print(\"Bin Mean: \\n\",bin1)"
   ]
  },
  {
   "cell_type": "code",
   "execution_count": null,
   "id": "d56b8611",
   "metadata": {},
   "outputs": [],
   "source": [
    "for i in range (0,150,15):\n",
    "    k=int(i/15)\n",
    "    for j in range(15):\n",
    "        if((t[i+j]-t[i])>(t[i+14]-t[i+j])): #if (b[i+j]-b[i]) < (b[i+4]-b[i+j]):\n",
    "            bin2[k,j]=t[j]\n",
    "        else:\n",
    "            bin2[k,j]=t[i+8]\n",
    "print(\"Bin boundaries: \\n\",bin2)"
   ]
  },
  {
   "cell_type": "code",
   "execution_count": null,
   "id": "bfb2155c",
   "metadata": {},
   "outputs": [],
   "source": [
    "for i in range (0,150,15):\n",
    "    k=int(i/15)\n",
    "    for j in range (15):\n",
    "        bin3[k,j]=t[i+14]\n",
    "print(\"Bin Median: \\n\",bin3)"
   ]
  },
  {
   "cell_type": "code",
   "execution_count": null,
   "id": "0b51d3bc",
   "metadata": {},
   "outputs": [],
   "source": [
    "import pandas as pd\n",
    "def equifreq(arr1,m):\n",
    "    a=len(arr1)\n",
    "    n=int(a/m)\n",
    "    for i in range(0,m):\n",
    "        arr=[]\n",
    "        for j in range(i*n,(i+1)*n):\n",
    "            if j>=a:\n",
    "                break\n",
    "            arr=arr+[arr1[j]]\n",
    "        print(arr)\n",
    "data = pd.read_csv(\"iris.csv\")\n",
    "sep_len=data['sepal_width']\n",
    "m=10\n",
    "equifreq(sep_len,m)"
   ]
  },
  {
   "cell_type": "markdown",
   "id": "b2444456",
   "metadata": {},
   "source": [
    "# petal length"
   ]
  },
  {
   "cell_type": "code",
   "execution_count": null,
   "id": "0668b166",
   "metadata": {},
   "outputs": [],
   "source": [
    "p=df['petal_length']\n",
    "t=[]\n",
    "print(p.head())\n",
    "for i in p:\n",
    "    t.append(i)\n",
    "t.sort()\n",
    "print(t)"
   ]
  },
  {
   "cell_type": "code",
   "execution_count": null,
   "id": "0a7c9901",
   "metadata": {},
   "outputs": [],
   "source": [
    "bin1=np.zeros((10,15))\n",
    "bin2=np.zeros((10,15))\n",
    "bin3=np.zeros((10,15))\n",
    "for i in range (0,150,15):\n",
    "    k=int(i/15)\n",
    "    mean=(t[i]+t[i+1]+t[i+2]+t[i+3]+t[i+4]+t[i+5]+t[i+6]+t[i+7]+t[i+8]+t[i+9]+t[i+10]+t[i+11]+t[i+12]+t[i+12]+t[i+14])/10\n",
    "    for j in range(15):\n",
    "        bin1[k,j]=mean\n",
    "print(\"Bin Mean: \\n\",bin1)"
   ]
  },
  {
   "cell_type": "code",
   "execution_count": null,
   "id": "e2bbb64c",
   "metadata": {},
   "outputs": [],
   "source": [
    "for i in range (0,150,15):\n",
    "    k=int(i/15)\n",
    "    for j in range(15):\n",
    "        if((t[i+j]-t[i])>(t[i+14]-t[i+j])): #if (b[i+j]-b[i]) < (b[i+4]-b[i+j]):\n",
    "            bin2[k,j]=t[j]\n",
    "        else:\n",
    "            bin2[k,j]=t[i+8]\n",
    "print(\"Bin boundaries: \\n\",bin2)"
   ]
  },
  {
   "cell_type": "code",
   "execution_count": null,
   "id": "bc43ddfe",
   "metadata": {},
   "outputs": [],
   "source": [
    "for i in range (0,150,15):\n",
    "    k=int(i/15)\n",
    "    for j in range (15):\n",
    "        bin3[k,j]=t[i+14]\n",
    "print(\"Bin Median: \\n\",bin3)"
   ]
  },
  {
   "cell_type": "code",
   "execution_count": null,
   "id": "aba9ef47",
   "metadata": {},
   "outputs": [],
   "source": [
    "import pandas as pd\n",
    "def equifreq(arr1,m):\n",
    "    a=len(arr1)\n",
    "    n=int(a/m)\n",
    "    for i in range(0,m):\n",
    "        arr=[]\n",
    "        for j in range(i*n,(i+1)*n):\n",
    "            if j>=a:\n",
    "                break\n",
    "            arr=arr+[arr1[j]]\n",
    "        print(arr)\n",
    "m=10\n",
    "equifreq(sep_len,m)"
   ]
  },
  {
   "cell_type": "code",
   "execution_count": null,
   "id": "d2c70f1a",
   "metadata": {},
   "outputs": [],
   "source": [
    "p=df['petal_width']\n",
    "t=[]\n",
    "print(p.head())\n",
    "for i in p:\n",
    "    t.append(i)\n",
    "t.sort()\n",
    "print(t)"
   ]
  },
  {
   "cell_type": "code",
   "execution_count": null,
   "id": "7bc8c9dd",
   "metadata": {},
   "outputs": [],
   "source": [
    "bin1=np.zeros((10,15))\n",
    "bin2=np.zeros((10,15))\n",
    "bin3=np.zeros((10,15))\n",
    "for i in range (0,150,15):\n",
    "    k=int(i/15)\n",
    "    mean=(t[i]+t[i+1]+t[i+2]+t[i+3]+t[i+4]+t[i+5]+t[i+6]+t[i+7]+t[i+8]+t[i+9]+t[i+10]+t[i+11]+t[i+12]+t[i+12]+t[i+14])/10\n",
    "    for j in range(15):\n",
    "        bin1[k,j]=mean\n",
    "print(\"Bin Mean: \\n\",bin1)"
   ]
  },
  {
   "cell_type": "code",
   "execution_count": null,
   "id": "0eae6cf6",
   "metadata": {},
   "outputs": [],
   "source": [
    "for i in range (0,150,15):\n",
    "    k=int(i/15)\n",
    "    for j in range(15):\n",
    "        if((t[i+j]-t[i])>(t[i+14]-t[i+j])): #if (b[i+j]-b[i]) < (b[i+4]-b[i+j]):\n",
    "            bin2[k,j]=t[j]\n",
    "        else:\n",
    "            bin2[k,j]=t[i+8]\n",
    "print(\"Bin boundaries: \\n\",bin2)"
   ]
  },
  {
   "cell_type": "code",
   "execution_count": null,
   "id": "ec861a92",
   "metadata": {},
   "outputs": [],
   "source": [
    "for i in range (0,150,15):\n",
    "    k=int(i/15)\n",
    "    for j in range (15):\n",
    "        bin3[k,j]=t[i+14]\n",
    "print(\"Bin Median: \\n\",bin3)"
   ]
  },
  {
   "cell_type": "code",
   "execution_count": null,
   "id": "585cfe14",
   "metadata": {},
   "outputs": [],
   "source": [
    "def equifreq(arr1,m):\n",
    "    a=len(arr1)\n",
    "    n=int(a/m)\n",
    "    for i in range(0,m):\n",
    "        arr=[]\n",
    "        for j in range(i*n,(i+1)*n):\n",
    "            if j>=a:\n",
    "                break\n",
    "            arr=arr+[arr1[j]]\n",
    "        print(arr)\n",
    "data = pd.read_csv(\"iris.csv\")\n",
    "sep_len=data['petal_width']\n",
    "m=10\n",
    "equifreq(sep_len,m)"
   ]
  }
 ],
 "metadata": {
  "kernelspec": {
   "display_name": "Python 3 (ipykernel)",
   "language": "python",
   "name": "python3"
  },
  "language_info": {
   "codemirror_mode": {
    "name": "ipython",
    "version": 3
   },
   "file_extension": ".py",
   "mimetype": "text/x-python",
   "name": "python",
   "nbconvert_exporter": "python",
   "pygments_lexer": "ipython3",
   "version": "3.11.5"
  }
 },
 "nbformat": 4,
 "nbformat_minor": 5
}
