{
 "cells": [
  {
   "cell_type": "code",
   "execution_count": 3,
   "id": "f7d31929",
   "metadata": {},
   "outputs": [],
   "source": [
    "#if u have larger values we scale to smaller range...we perform normalisation"
   ]
  },
  {
   "cell_type": "code",
   "execution_count": 42,
   "id": "246745b2",
   "metadata": {},
   "outputs": [],
   "source": [
    "import pandas as pd\n",
    "df=pd.read_excel(\"age.xlsx\")"
   ]
  },
  {
   "cell_type": "code",
   "execution_count": 5,
   "id": "8b3055a5",
   "metadata": {},
   "outputs": [
    {
     "name": "stdout",
     "output_type": "stream",
     "text": [
      "   age\n",
      "0   13\n",
      "1   15\n",
      "2   16\n",
      "3   16\n",
      "4   19\n"
     ]
    }
   ],
   "source": [
    "print(df.head())"
   ]
  },
  {
   "cell_type": "code",
   "execution_count": 43,
   "id": "f605c1ac",
   "metadata": {},
   "outputs": [
    {
     "name": "stdout",
     "output_type": "stream",
     "text": [
      "   age  norm_age\n",
      "0   13  0.000000\n",
      "1   15  0.035088\n",
      "2   16  0.052632\n",
      "3   16  0.052632\n",
      "4   19  0.105263\n"
     ]
    }
   ],
   "source": [
    "mini=min(df['age'])\n",
    "maxi=max(df['age'])\n",
    "df['norm_age']=(df['age']-mini)/(maxi-mini)\n",
    "print(df.head())"
   ]
  },
  {
   "cell_type": "code",
   "execution_count": 7,
   "id": "52eeef61",
   "metadata": {},
   "outputs": [
    {
     "name": "stdout",
     "output_type": "stream",
     "text": [
      "   age  norm_age   z-score\n",
      "0   13  0.000000 -1.310678\n",
      "1   15  0.035088 -1.156144\n",
      "2   16  0.052632 -1.078877\n",
      "3   16  0.052632 -1.078877\n",
      "4   19  0.105263 -0.847076\n"
     ]
    }
   ],
   "source": [
    "age=df['age']\n",
    "snd=age.std()\n",
    "avg=age.mean()\n",
    "df['z-score']=(df['age']-avg)/snd\n",
    "print(df.head())"
   ]
  },
  {
   "cell_type": "code",
   "execution_count": 8,
   "id": "08f08663",
   "metadata": {},
   "outputs": [
    {
     "name": "stdout",
     "output_type": "stream",
     "text": [
      "   age  norm_age   z-score  decimal-scale\n",
      "0   13  0.000000 -1.310678           0.13\n",
      "1   15  0.035088 -1.156144           0.15\n",
      "2   16  0.052632 -1.078877           0.16\n",
      "3   16  0.052632 -1.078877           0.16\n",
      "4   19  0.105263 -0.847076           0.19\n"
     ]
    }
   ],
   "source": [
    "age=df['age']\n",
    "df[\"decimal-scale\"]=df['age']/pow(10,2)\n",
    "print(df.head())"
   ]
  },
  {
   "cell_type": "code",
   "execution_count": 24,
   "id": "1471d198",
   "metadata": {},
   "outputs": [],
   "source": [
    "import pandas as pd\n",
    "df=pd.read_csv(\"iris.csv\")"
   ]
  },
  {
   "cell_type": "markdown",
   "id": "f2491efe",
   "metadata": {},
   "source": [
    "# Iris dataset----min&max normalisation"
   ]
  },
  {
   "cell_type": "code",
   "execution_count": 10,
   "id": "66aaafed",
   "metadata": {},
   "outputs": [
    {
     "name": "stdout",
     "output_type": "stream",
     "text": [
      "4.3\n",
      "   sepal_length  sepal_width  petal_length  petal_width species  norm_sep_len\n",
      "0           5.1          3.5           1.4          0.2  setosa      0.222222\n",
      "1           4.9          3.0           1.4          0.2  setosa      0.166667\n",
      "2           4.7          3.2           1.3          0.2  setosa      0.111111\n",
      "3           4.6          3.1           1.5          0.2  setosa      0.083333\n",
      "4           5.0          3.6           1.4          0.2  setosa      0.194444\n"
     ]
    }
   ],
   "source": [
    "sep_len=df['sepal_length']\n",
    "min1=sep_len.min()\n",
    "max1=sep_len.max()\n",
    "df['norm_sep_len']=(sep_len-min1)/(max1-min1)\n",
    "print(df.head())"
   ]
  },
  {
   "cell_type": "code",
   "execution_count": 11,
   "id": "59754f7a",
   "metadata": {},
   "outputs": [
    {
     "name": "stdout",
     "output_type": "stream",
     "text": [
      "   sepal_length  sepal_width  petal_length  petal_width species  norm_sep_len  \\\n",
      "0           5.1          3.5           1.4          0.2  setosa      0.222222   \n",
      "1           4.9          3.0           1.4          0.2  setosa      0.166667   \n",
      "2           4.7          3.2           1.3          0.2  setosa      0.111111   \n",
      "3           4.6          3.1           1.5          0.2  setosa      0.083333   \n",
      "4           5.0          3.6           1.4          0.2  setosa      0.194444   \n",
      "\n",
      "   norm_sep_width  \n",
      "0        0.625000  \n",
      "1        0.416667  \n",
      "2        0.500000  \n",
      "3        0.458333  \n",
      "4        0.666667  \n"
     ]
    }
   ],
   "source": [
    "sep_width=df['sepal_width']\n",
    "min2=sep_width.min()\n",
    "max2=sep_width.max()\n",
    "df['norm_sep_width']=(sep_width-min2)/(max2-min2)\n",
    "print(df.head())"
   ]
  },
  {
   "cell_type": "code",
   "execution_count": 12,
   "id": "71430e35",
   "metadata": {},
   "outputs": [
    {
     "name": "stdout",
     "output_type": "stream",
     "text": [
      "   sepal_length  sepal_width  petal_length  petal_width species  norm_sep_len  \\\n",
      "0           5.1          3.5           1.4          0.2  setosa      0.222222   \n",
      "1           4.9          3.0           1.4          0.2  setosa      0.166667   \n",
      "2           4.7          3.2           1.3          0.2  setosa      0.111111   \n",
      "3           4.6          3.1           1.5          0.2  setosa      0.083333   \n",
      "4           5.0          3.6           1.4          0.2  setosa      0.194444   \n",
      "\n",
      "   norm_sep_width  norm_pet_len  \n",
      "0        0.625000      0.067797  \n",
      "1        0.416667      0.067797  \n",
      "2        0.500000      0.050847  \n",
      "3        0.458333      0.084746  \n",
      "4        0.666667      0.067797  \n"
     ]
    }
   ],
   "source": [
    "pet_len=df['petal_length']\n",
    "min3=pet_len.min()\n",
    "max3=pet_len.max()\n",
    "df['norm_pet_len']=(pet_len-min3)/(max3-min3)\n",
    "print(df.head())"
   ]
  },
  {
   "cell_type": "code",
   "execution_count": 13,
   "id": "262a72ad",
   "metadata": {},
   "outputs": [
    {
     "name": "stdout",
     "output_type": "stream",
     "text": [
      "   sepal_length  sepal_width  petal_length  petal_width species  norm_sep_len  \\\n",
      "0           5.1          3.5           1.4          0.2  setosa      0.222222   \n",
      "1           4.9          3.0           1.4          0.2  setosa      0.166667   \n",
      "2           4.7          3.2           1.3          0.2  setosa      0.111111   \n",
      "3           4.6          3.1           1.5          0.2  setosa      0.083333   \n",
      "4           5.0          3.6           1.4          0.2  setosa      0.194444   \n",
      "\n",
      "   norm_sep_width  norm_pet_len  norm_pet_width  \n",
      "0        0.625000      0.067797        0.016949  \n",
      "1        0.416667      0.067797        0.016949  \n",
      "2        0.500000      0.050847        0.016949  \n",
      "3        0.458333      0.084746        0.016949  \n",
      "4        0.666667      0.067797        0.016949  \n"
     ]
    }
   ],
   "source": [
    "pet_width=df['petal_width']\n",
    "min4=pet_width.min()\n",
    "max4=pet_width.max()\n",
    "df['norm_pet_width']=(pet_width-min4)/(max3-min3)\n",
    "print(df.head())"
   ]
  },
  {
   "cell_type": "markdown",
   "id": "688ce797",
   "metadata": {},
   "source": [
    "# Iris dataset---z-score normalization"
   ]
  },
  {
   "cell_type": "code",
   "execution_count": 27,
   "id": "b4e747bb",
   "metadata": {},
   "outputs": [
    {
     "name": "stdout",
     "output_type": "stream",
     "text": [
      "   sepal_length  sepal_width  petal_length  petal_width species  \\\n",
      "0           5.1          3.5           1.4          0.2  setosa   \n",
      "1           4.9          3.0           1.4          0.2  setosa   \n",
      "2           4.7          3.2           1.3          0.2  setosa   \n",
      "3           4.6          3.1           1.5          0.2  setosa   \n",
      "4           5.0          3.6           1.4          0.2  setosa   \n",
      "\n",
      "   z-score-sep_len  \n",
      "0         2.470817  \n",
      "1         2.229291  \n",
      "2         1.987764  \n",
      "3         1.867001  \n",
      "4         2.350054  \n"
     ]
    }
   ],
   "source": [
    "sep_len=df['sepal_length']\n",
    "snd=sep_len.std()\n",
    "avg=sep_width.mean()\n",
    "df['z-score-sep_len']=(sep_len-avg)/snd\n",
    "print(df.head())"
   ]
  },
  {
   "cell_type": "code",
   "execution_count": 28,
   "id": "832c7ced",
   "metadata": {},
   "outputs": [
    {
     "name": "stdout",
     "output_type": "stream",
     "text": [
      "   sepal_length  sepal_width  petal_length  petal_width species  \\\n",
      "0           5.1          3.5           1.4          0.2  setosa   \n",
      "1           4.9          3.0           1.4          0.2  setosa   \n",
      "2           4.7          3.2           1.3          0.2  setosa   \n",
      "3           4.6          3.1           1.5          0.2  setosa   \n",
      "4           5.0          3.6           1.4          0.2  setosa   \n",
      "\n",
      "   z-score-sep_len  z-score-sep-width  \n",
      "0         2.470817           1.028611  \n",
      "1         2.229291          -0.124540  \n",
      "2         1.987764           0.336720  \n",
      "3         1.867001           0.106090  \n",
      "4         2.350054           1.259242  \n"
     ]
    }
   ],
   "source": [
    "sep_width=df['sepal_width']\n",
    "snd=sep_width.std()\n",
    "avg=sep_width.mean()\n",
    "df['z-score-sep-width']=(sep_width-avg)/snd\n",
    "print(df.head())"
   ]
  },
  {
   "cell_type": "code",
   "execution_count": 29,
   "id": "2e8cff39",
   "metadata": {},
   "outputs": [
    {
     "name": "stdout",
     "output_type": "stream",
     "text": [
      "   sepal_length  sepal_width  petal_length  petal_width species  \\\n",
      "0           5.1          3.5           1.4          0.2  setosa   \n",
      "1           4.9          3.0           1.4          0.2  setosa   \n",
      "2           4.7          3.2           1.3          0.2  setosa   \n",
      "3           4.6          3.1           1.5          0.2  setosa   \n",
      "4           5.0          3.6           1.4          0.2  setosa   \n",
      "\n",
      "   z-score-sep_len  z-score-sep-width  z-score-pet_len  \n",
      "0         2.470817           1.028611        -1.336794  \n",
      "1         2.229291          -0.124540        -1.336794  \n",
      "2         1.987764           0.336720        -1.393470  \n",
      "3         1.867001           0.106090        -1.280118  \n",
      "4         2.350054           1.259242        -1.336794  \n"
     ]
    }
   ],
   "source": [
    "pet_len=df['petal_length']\n",
    "snd=pet_len.std()\n",
    "avg=pet_len.mean()\n",
    "df['z-score-pet_len']=(pet_len-avg)/snd\n",
    "print(df.head())"
   ]
  },
  {
   "cell_type": "code",
   "execution_count": 31,
   "id": "d9cc6395",
   "metadata": {},
   "outputs": [
    {
     "name": "stdout",
     "output_type": "stream",
     "text": [
      "   sepal_length  sepal_width  petal_length  petal_width species  \\\n",
      "0           5.1          3.5           1.4          0.2  setosa   \n",
      "1           4.9          3.0           1.4          0.2  setosa   \n",
      "2           4.7          3.2           1.3          0.2  setosa   \n",
      "3           4.6          3.1           1.5          0.2  setosa   \n",
      "4           5.0          3.6           1.4          0.2  setosa   \n",
      "\n",
      "   z-score-sep_len  z-score-sep-width  z-score-pet_len  z-score-pet_width  \n",
      "0         2.470817           1.028611        -1.336794          -1.308593  \n",
      "1         2.229291          -0.124540        -1.336794          -1.308593  \n",
      "2         1.987764           0.336720        -1.393470          -1.308593  \n",
      "3         1.867001           0.106090        -1.280118          -1.308593  \n",
      "4         2.350054           1.259242        -1.336794          -1.308593  \n"
     ]
    }
   ],
   "source": [
    "pet_width=df['petal_width']\n",
    "snd=pet_width.std()\n",
    "avg=pet_width.mean()\n",
    "df['z-score-pet_width']=(pet_width-avg)/snd\n",
    "print(df.head())"
   ]
  },
  {
   "cell_type": "markdown",
   "id": "1bdbea1b",
   "metadata": {},
   "source": [
    "# DISTPLOT"
   ]
  },
  {
   "cell_type": "code",
   "execution_count": 22,
   "id": "cacc0784",
   "metadata": {},
   "outputs": [
    {
     "name": "stderr",
     "output_type": "stream",
     "text": [
      "C:\\Users\\android\\AppData\\Local\\Temp\\ipykernel_20452\\2502499344.py:4: UserWarning: \n",
      "\n",
      "`distplot` is a deprecated function and will be removed in seaborn v0.14.0.\n",
      "\n",
      "Please adapt your code to use either `displot` (a figure-level function with\n",
      "similar flexibility) or `histplot` (an axes-level function for histograms).\n",
      "\n",
      "For a guide to updating your code to use the new functions, please see\n",
      "https://gist.github.com/mwaskom/de44147ed2974457ad6372750bbe5751\n",
      "\n",
      "  sns.distplot(df['age'])\n"
     ]
    },
    {
     "data": {
      "text/plain": [
       "<Axes: xlabel='age', ylabel='Density'>"
      ]
     },
     "execution_count": 22,
     "metadata": {},
     "output_type": "execute_result"
    },
    {
     "data": {
      "image/png": "[encoded data removed]",
      "text/plain": [
       "<Figure size 640x480 with 1 Axes>"
      ]
     },
     "metadata": {},
     "output_type": "display_data"
    }
   ],
   "source": [
    "import seaborn as sns\n",
    "import pandas as pd\n",
    "df=pd.read_excel(\"age.xlsx\")\n",
    "sns.distplot(df['age'])"
   ]
  },
  {
   "cell_type": "code",
   "execution_count": 21,
   "id": "18eb3071",
   "metadata": {},
   "outputs": [
    {
     "name": "stderr",
     "output_type": "stream",
     "text": [
      "C:\\Users\\android\\AppData\\Local\\Temp\\ipykernel_20452\\2806327634.py:2: UserWarning: \n",
      "\n",
      "`distplot` is a deprecated function and will be removed in seaborn v0.14.0.\n",
      "\n",
      "Please adapt your code to use either `displot` (a figure-level function with\n",
      "similar flexibility) or `histplot` (an axes-level function for histograms).\n",
      "\n",
      "For a guide to updating your code to use the new functions, please see\n",
      "https://gist.github.com/mwaskom/de44147ed2974457ad6372750bbe5751\n",
      "\n",
      "  sns.distplot(df['d_age'])\n"
     ]
    },
    {
     "data": {
      "text/plain": [
       "<Axes: xlabel='d_age', ylabel='Density'>"
      ]
     },
     "execution_count": 21,
     "metadata": {},
     "output_type": "execute_result"
    },
    {
     "data": {
      "image/png": "[encoded data removed]",
      "text/plain": [
       "<Figure size 640x480 with 1 Axes>"
      ]
     },
     "metadata": {},
     "output_type": "display_data"
    }
   ],
   "source": [
    "df['d_age']=df['age']/(df['age'].abs().max())\n",
    "sns.distplot(df['d_age'])"
   ]
  },
  {
   "cell_type": "markdown",
   "id": "b23b737d",
   "metadata": {},
   "source": [
    "# Min-Max scaling in specified range [age dataset]"
   ]
  },
  {
   "cell_type": "code",
   "execution_count": 41,
   "id": "93817d64",
   "metadata": {},
   "outputs": [],
   "source": [
    "import pandas as pd\n",
    "df=pd.read_excel(\"age.xlsx\")"
   ]
  },
  {
   "cell_type": "code",
   "execution_count": 44,
   "id": "cb334ef9",
   "metadata": {},
   "outputs": [
    {
     "name": "stdout",
     "output_type": "stream",
     "text": [
      "   age  norm_age  norm_age_sp\n",
      "0   13  0.000000     0.000000\n",
      "1   15  0.035088     0.035088\n",
      "2   16  0.052632     0.052632\n",
      "3   16  0.052632     0.052632\n",
      "4   19  0.105263     0.105263\n"
     ]
    }
   ],
   "source": [
    "mini=min(df['age'])\n",
    "maxi=max(df['age'])\n",
    "nmax=1\n",
    "nmin=-1\n",
    "df['norm_age_sp']=(df['age']-mini)/((maxi-mini)*((nmax-nmin)+nmin))\n",
    "print(df.head())"
   ]
  },
  {
   "cell_type": "markdown",
   "id": "da550649",
   "metadata": {},
   "source": [
    "# Min-Max Scaling in specific range[-1,1] Iris dataset"
   ]
  },
  {
   "cell_type": "code",
   "execution_count": 34,
   "id": "d24404ef",
   "metadata": {},
   "outputs": [],
   "source": [
    "import pandas as pd\n",
    "df=pd.read_csv(\"iris.csv\")"
   ]
  },
  {
   "cell_type": "code",
   "execution_count": null,
   "id": "912cef87",
   "metadata": {},
   "outputs": [],
   "source": [
    "sep_len=df['sepal_length']\n",
    "min1=sep_len.min()\n",
    "max1=sep_len.max()\n",
    "df['norm_sep_len']=(sep_len-min1)/(max1-min1)\n",
    "print(df.head())"
   ]
  }
 ],
 "metadata": {
  "kernelspec": {
   "display_name": "Python 3 (ipykernel)",
   "language": "python",
   "name": "python3"
  },
  "language_info": {
   "codemirror_mode": {
    "name": "ipython",
    "version": 3
   },
   "file_extension": ".py",
   "mimetype": "text/x-python",
   "name": "python",
   "nbconvert_exporter": "python",
   "pygments_lexer": "ipython3",
   "version": "3.11.5"
  }
 },
 "nbformat": 4,
 "nbformat_minor": 5
}
