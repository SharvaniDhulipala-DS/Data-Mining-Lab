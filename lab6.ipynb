{
 "cells": [
  {
   "cell_type": "code",
   "execution_count": 73,
   "id": "9bcec006",
   "metadata": {},
   "outputs": [
    {
     "data": {
      "text/html": [
       "<div>\n",
       "<style scoped>\n",
       "    .dataframe tbody tr th:only-of-type {\n",
       "        vertical-align: middle;\n",
       "    }\n",
       "\n",
       "    .dataframe tbody tr th {\n",
       "        vertical-align: top;\n",
       "    }\n",
       "\n",
       "    .dataframe thead th {\n",
       "        text-align: right;\n",
       "    }\n",
       "</style>\n",
       "<table border=\"1\" class=\"dataframe\">\n",
       "  <thead>\n",
       "    <tr style=\"text-align: right;\">\n",
       "      <th></th>\n",
       "      <th>dateCrawled</th>\n",
       "      <th>name</th>\n",
       "      <th>price</th>\n",
       "      <th>yearOfRegistration</th>\n",
       "      <th>powerPS</th>\n",
       "      <th>kilometer</th>\n",
       "      <th>monthOfRegistration</th>\n",
       "      <th>postalCode</th>\n",
       "      <th>lastSeen</th>\n",
       "    </tr>\n",
       "  </thead>\n",
       "  <tbody>\n",
       "    <tr>\n",
       "      <th>0</th>\n",
       "      <td>30-03-2016 13:51</td>\n",
       "      <td>Zu_verkaufen</td>\n",
       "      <td>4450</td>\n",
       "      <td>2003</td>\n",
       "      <td>150</td>\n",
       "      <td>150000</td>\n",
       "      <td>3</td>\n",
       "      <td>20257</td>\n",
       "      <td>07-04-2016 04:44</td>\n",
       "    </tr>\n",
       "    <tr>\n",
       "      <th>1</th>\n",
       "      <td>07-03-2016 09:54</td>\n",
       "      <td>Volvo_XC90_2.4D_Summum</td>\n",
       "      <td>13299</td>\n",
       "      <td>2005</td>\n",
       "      <td>163</td>\n",
       "      <td>150000</td>\n",
       "      <td>6</td>\n",
       "      <td>88045</td>\n",
       "      <td>26-03-2016 13:17</td>\n",
       "    </tr>\n",
       "    <tr>\n",
       "      <th>2</th>\n",
       "      <td>01-04-2016 00:57</td>\n",
       "      <td>Volkswagen_Touran</td>\n",
       "      <td>3200</td>\n",
       "      <td>2003</td>\n",
       "      <td>101</td>\n",
       "      <td>150000</td>\n",
       "      <td>11</td>\n",
       "      <td>27449</td>\n",
       "      <td>01-04-2016 08:40</td>\n",
       "    </tr>\n",
       "    <tr>\n",
       "      <th>3</th>\n",
       "      <td>19-03-2016 17:50</td>\n",
       "      <td>Seat_Ibiza_1.4_16V_Reference</td>\n",
       "      <td>4500</td>\n",
       "      <td>2006</td>\n",
       "      <td>86</td>\n",
       "      <td>60000</td>\n",
       "      <td>12</td>\n",
       "      <td>34537</td>\n",
       "      <td>07-04-2016 04:44</td>\n",
       "    </tr>\n",
       "    <tr>\n",
       "      <th>4</th>\n",
       "      <td>16-03-2016 14:51</td>\n",
       "      <td>Volvo_XC90_D5_Aut._RDesign_R_Design_AWD_GSHD_S...</td>\n",
       "      <td>18750</td>\n",
       "      <td>2008</td>\n",
       "      <td>185</td>\n",
       "      <td>150000</td>\n",
       "      <td>11</td>\n",
       "      <td>55270</td>\n",
       "      <td>01-04-2016 23:18</td>\n",
       "    </tr>\n",
       "  </tbody>\n",
       "</table>\n",
       "</div>"
      ],
      "text/plain": [
       "        dateCrawled                                               name  price  \\\n",
       "0  30-03-2016 13:51                                       Zu_verkaufen   4450   \n",
       "1  07-03-2016 09:54                             Volvo_XC90_2.4D_Summum  13299   \n",
       "2  01-04-2016 00:57                                  Volkswagen_Touran   3200   \n",
       "3  19-03-2016 17:50                       Seat_Ibiza_1.4_16V_Reference   4500   \n",
       "4  16-03-2016 14:51  Volvo_XC90_D5_Aut._RDesign_R_Design_AWD_GSHD_S...  18750   \n",
       "\n",
       "   yearOfRegistration  powerPS  kilometer  monthOfRegistration  postalCode  \\\n",
       "0                2003      150     150000                    3       20257   \n",
       "1                2005      163     150000                    6       88045   \n",
       "2                2003      101     150000                   11       27449   \n",
       "3                2006       86      60000                   12       34537   \n",
       "4                2008      185     150000                   11       55270   \n",
       "\n",
       "           lastSeen  \n",
       "0  07-04-2016 04:44  \n",
       "1  26-03-2016 13:17  \n",
       "2  01-04-2016 08:40  \n",
       "3  07-04-2016 04:44  \n",
       "4  01-04-2016 23:18  "
      ]
     },
     "execution_count": 73,
     "metadata": {},
     "output_type": "execute_result"
    }
   ],
   "source": [
    "import pandas as pd\n",
    "df=pd.read_csv(\"cars.csv\")\n",
    "df.head()"
   ]
  },
  {
   "cell_type": "code",
   "execution_count": 74,
   "id": "a680a780",
   "metadata": {},
   "outputs": [
    {
     "name": "stdout",
     "output_type": "stream",
     "text": [
      "<class 'pandas.core.frame.DataFrame'>\n",
      "RangeIndex: 50001 entries, 0 to 50000\n",
      "Data columns (total 9 columns):\n",
      " #   Column               Non-Null Count  Dtype \n",
      "---  ------               --------------  ----- \n",
      " 0   dateCrawled          50001 non-null  object\n",
      " 1   name                 50001 non-null  object\n",
      " 2   price                50001 non-null  int64 \n",
      " 3   yearOfRegistration   50001 non-null  int64 \n",
      " 4   powerPS              50001 non-null  int64 \n",
      " 5   kilometer            50001 non-null  int64 \n",
      " 6   monthOfRegistration  50001 non-null  int64 \n",
      " 7   postalCode           50001 non-null  int64 \n",
      " 8   lastSeen             50001 non-null  object\n",
      "dtypes: int64(6), object(3)\n",
      "memory usage: 3.4+ MB\n"
     ]
    }
   ],
   "source": [
    "df.info()"
   ]
  },
  {
   "cell_type": "code",
   "execution_count": 75,
   "id": "a39d267b",
   "metadata": {},
   "outputs": [
    {
     "data": {
      "text/html": [
       "<div>\n",
       "<style scoped>\n",
       "    .dataframe tbody tr th:only-of-type {\n",
       "        vertical-align: middle;\n",
       "    }\n",
       "\n",
       "    .dataframe tbody tr th {\n",
       "        vertical-align: top;\n",
       "    }\n",
       "\n",
       "    .dataframe thead th {\n",
       "        text-align: right;\n",
       "    }\n",
       "</style>\n",
       "<table border=\"1\" class=\"dataframe\">\n",
       "  <thead>\n",
       "    <tr style=\"text-align: right;\">\n",
       "      <th></th>\n",
       "      <th>name</th>\n",
       "      <th>price</th>\n",
       "    </tr>\n",
       "  </thead>\n",
       "  <tbody>\n",
       "    <tr>\n",
       "      <th>0</th>\n",
       "      <td>Zu_verkaufen</td>\n",
       "      <td>4450</td>\n",
       "    </tr>\n",
       "    <tr>\n",
       "      <th>1</th>\n",
       "      <td>Volvo_XC90_2.4D_Summum</td>\n",
       "      <td>13299</td>\n",
       "    </tr>\n",
       "    <tr>\n",
       "      <th>2</th>\n",
       "      <td>Volkswagen_Touran</td>\n",
       "      <td>3200</td>\n",
       "    </tr>\n",
       "    <tr>\n",
       "      <th>3</th>\n",
       "      <td>Seat_Ibiza_1.4_16V_Reference</td>\n",
       "      <td>4500</td>\n",
       "    </tr>\n",
       "    <tr>\n",
       "      <th>4</th>\n",
       "      <td>Volvo_XC90_D5_Aut._RDesign_R_Design_AWD_GSHD_S...</td>\n",
       "      <td>18750</td>\n",
       "    </tr>\n",
       "  </tbody>\n",
       "</table>\n",
       "</div>"
      ],
      "text/plain": [
       "                                                name  price\n",
       "0                                       Zu_verkaufen   4450\n",
       "1                             Volvo_XC90_2.4D_Summum  13299\n",
       "2                                  Volkswagen_Touran   3200\n",
       "3                       Seat_Ibiza_1.4_16V_Reference   4500\n",
       "4  Volvo_XC90_D5_Aut._RDesign_R_Design_AWD_GSHD_S...  18750"
      ]
     },
     "execution_count": 75,
     "metadata": {},
     "output_type": "execute_result"
    }
   ],
   "source": [
    "df.drop([\"dateCrawled\",\"lastSeen\",\"yearOfRegistration\",\"powerPS\",\"postalCode\",\"monthOfRegistration\",\"kilometer\"],axis=1,inplace=True)\n",
    "df.head()"
   ]
  },
  {
   "cell_type": "code",
   "execution_count": 76,
   "id": "97c35a11",
   "metadata": {},
   "outputs": [
    {
     "name": "stdout",
     "output_type": "stream",
     "text": [
      "0     4450\n",
      "1    13299\n",
      "2     3200\n",
      "3     4500\n",
      "4    18750\n",
      "Name: price, dtype: int64\n",
      "MEAN: 6559.865462690746\n",
      "MEDIAN: 2950.0\n",
      "MODE: 0    0\n",
      "Name: price, dtype: int64\n",
      "MAXIUM: 12345678\n",
      "MINIMUM: 0\n",
      "VARIANCE: 7364809809.723816\n",
      "STANDARD DEVIATION: 85818.47009661623\n",
      "COEFFICIENT OF VARIANCE: 1308.2352158700362\n",
      "1ST QUARTILE: 0.25    1150.0\n",
      "Name: price, dtype: float64\n",
      "2ST QUARTILE: 0.5    2950.0\n",
      "Name: price, dtype: float64\n",
      "3ST QUARTILE: 0.75    7190.0\n",
      "Name: price, dtype: float64\n",
      "INTER QUARTILE: 6040.0\n"
     ]
    },
    {
     "data": {
      "text/plain": [
       "{'whiskers': [<matplotlib.lines.Line2D at 0x236eda21c90>,\n",
       "  <matplotlib.lines.Line2D at 0x236eda22790>],\n",
       " 'caps': [<matplotlib.lines.Line2D at 0x236eda23190>,\n",
       "  <matplotlib.lines.Line2D at 0x236eda23ad0>],\n",
       " 'boxes': [<matplotlib.lines.Line2D at 0x236eda21290>],\n",
       " 'medians': [<matplotlib.lines.Line2D at 0x236eda2c390>],\n",
       " 'fliers': [<matplotlib.lines.Line2D at 0x236ecb29210>],\n",
       " 'means': []}"
      ]
     },
     "execution_count": 76,
     "metadata": {},
     "output_type": "execute_result"
    },
    {
     "data": {
      "image/png": "[encoded data removed]",
      "text/plain": [
       "<Figure size 640x480 with 1 Axes>"
      ]
     },
     "metadata": {},
     "output_type": "display_data"
    }
   ],
   "source": [
    "pet_len=df['price']\n",
    "print(pet_len.head())\n",
    "print(\"MEAN:\",pet_len.mean())\n",
    "print(\"MEDIAN:\",pet_len.median())\n",
    "print(\"MODE:\",pet_len.mode())\n",
    "print(\"MAXIUM:\",pet_len.max())\n",
    "print(\"MINIMUM:\",pet_len.min())\n",
    "print(\"VARIANCE:\",pet_len.var())\n",
    "print(\"STANDARD DEVIATION:\",pet_len.std())\n",
    "coe=(pet_len.std()/pet_len.mean())*100\n",
    "print(\"COEFFICIENT OF VARIANCE:\",coe)\n",
    "q1=pet_len.quantile([.25])\n",
    "q2=pet_len.quantile([.5])\n",
    "q3=pet_len.quantile([.75])\n",
    "print(\"1ST QUARTILE:\",q1)\n",
    "print(\"2ST QUARTILE:\",q2)\n",
    "print(\"3ST QUARTILE:\",q3)\n",
    "iq=df['price'].quantile([.25,.5,.75])\n",
    "iqr=iq[0.75]-iq[0.25]\n",
    "print(\"INTER QUARTILE:\",iqr)\n",
    "import matplotlib.pyplot as plt\n",
    "plt.boxplot(pet_len)\n"
   ]
  },
  {
   "cell_type": "code",
   "execution_count": 84,
   "id": "0c08d113",
   "metadata": {},
   "outputs": [
    {
     "ename": "AttributeError",
     "evalue": "'NoneType' object has no attribute 'sort_values'",
     "output_type": "error",
     "traceback": [
      "\u001b[1;31m---------------------------------------------------------------------------\u001b[0m",
      "\u001b[1;31mAttributeError\u001b[0m                            Traceback (most recent call last)",
      "Cell \u001b[1;32mIn[84], line 1\u001b[0m\n\u001b[1;32m----> 1\u001b[0m df\u001b[38;5;241m.\u001b[39msort_values(by\u001b[38;5;241m=\u001b[39m[\u001b[38;5;124m'\u001b[39m\u001b[38;5;124mprice\u001b[39m\u001b[38;5;124m'\u001b[39m], inplace\u001b[38;5;241m=\u001b[39m\u001b[38;5;28;01mTrue\u001b[39;00m)\n",
      "\u001b[1;31mAttributeError\u001b[0m: 'NoneType' object has no attribute 'sort_values'"
     ]
    }
   ],
   "source": [
    "df.sort_values(by=['price'], inplace=True)\n"
   ]
  },
  {
   "cell_type": "code",
   "execution_count": 79,
   "id": "72e3722f",
   "metadata": {},
   "outputs": [
    {
     "ename": "TypeError",
     "evalue": "'NoneType' object is not subscriptable",
     "output_type": "error",
     "traceback": [
      "\u001b[1;31m---------------------------------------------------------------------------\u001b[0m",
      "\u001b[1;31mTypeError\u001b[0m                                 Traceback (most recent call last)",
      "Cell \u001b[1;32mIn[79], line 11\u001b[0m\n\u001b[0;32m      9\u001b[0m             arr\u001b[38;5;241m=\u001b[39marr\u001b[38;5;241m+\u001b[39m[arr1[j]]\n\u001b[0;32m     10\u001b[0m         \u001b[38;5;28mprint\u001b[39m(arr)\n\u001b[1;32m---> 11\u001b[0m data \u001b[38;5;241m=\u001b[39m df[\u001b[38;5;124m'\u001b[39m\u001b[38;5;124mprice\u001b[39m\u001b[38;5;124m'\u001b[39m]\n\u001b[0;32m     12\u001b[0m m\u001b[38;5;241m=\u001b[39m\u001b[38;5;241m6\u001b[39m\n\u001b[0;32m     13\u001b[0m equifreq(data,m)\n",
      "\u001b[1;31mTypeError\u001b[0m: 'NoneType' object is not subscriptable"
     ]
    }
   ],
   "source": [
    "def equifreq(arr1,m):\n",
    "    a=len(arr1)\n",
    "    n=int(a/m)\n",
    "    for i in range(0,m):\n",
    "        arr=[]\n",
    "        for j in range(i*n,(i+1)*n):\n",
    "            if j>=a:\n",
    "                break\n",
    "            arr=arr+[arr1[j]]\n",
    "        print(arr)\n",
    "data = df['price']\n",
    "m=6\n",
    "equifreq(data,m)"
   ]
  },
  {
   "cell_type": "code",
   "execution_count": null,
   "id": "b7bdb0bf",
   "metadata": {},
   "outputs": [],
   "source": []
  }
 ],
 "metadata": {
  "kernelspec": {
   "display_name": "Python 3 (ipykernel)",
   "language": "python",
   "name": "python3"
  },
  "language_info": {
   "codemirror_mode": {
    "name": "ipython",
    "version": 3
   },
   "file_extension": ".py",
   "mimetype": "text/x-python",
   "name": "python",
   "nbconvert_exporter": "python",
   "pygments_lexer": "ipython3",
   "version": "3.11.5"
  }
 },
 "nbformat": 4,
 "nbformat_minor": 5
}
